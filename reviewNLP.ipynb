{
 "cells": [
  {
   "cell_type": "code",
   "execution_count": 13,
   "metadata": {},
   "outputs": [],
   "source": [
    "import pandas as pd\n",
    "import seaborn as sns\n",
    "import spacy"
   ]
  },
  {
   "cell_type": "markdown",
   "metadata": {},
   "source": [
    "things to do:\n",
    "- summary data of how many reviews from which branch\n",
    "- reviewer location (how many from Singapore)\n",
    "- what year-month are the reviews from\n",
    "- what is the general ratings for each branch"
   ]
  },
  {
   "cell_type": "code",
   "execution_count": 3,
   "metadata": {},
   "outputs": [
    {
     "data": {
      "application/vnd.microsoft.datawrangler.viewer.v0+json": {
       "columns": [
        {
         "name": "index",
         "rawType": "int64",
         "type": "integer"
        },
        {
         "name": "Review_ID",
         "rawType": "int64",
         "type": "integer"
        },
        {
         "name": "Rating",
         "rawType": "int64",
         "type": "integer"
        },
        {
         "name": "Year_Month",
         "rawType": "object",
         "type": "string"
        },
        {
         "name": "Reviewer_Location",
         "rawType": "object",
         "type": "string"
        },
        {
         "name": "Review_Text",
         "rawType": "object",
         "type": "string"
        },
        {
         "name": "Branch",
         "rawType": "object",
         "type": "string"
        }
       ],
       "conversionMethod": "pd.DataFrame",
       "ref": "f8c06315-c5b5-4c86-b5b3-1c8b8d4669ab",
       "rows": [
        [
         "0",
         "670772142",
         "4",
         "2019-4",
         "Australia",
         "If you've ever been to Disneyland anywhere you'll find Disneyland Hong Kong very similar in the layout when you walk into main street! It has a very familiar feel. One of the rides  its a Small World  is absolutely fabulous and worth doing. The day we visited was fairly hot and relatively busy but the queues moved fairly well. ",
         "Disneyland_HongKong"
        ],
        [
         "1",
         "670682799",
         "4",
         "2019-5",
         "Philippines",
         "Its been a while since d last time we visit HK Disneyland .. Yet, this time we only stay in Tomorrowland .. AKA Marvel land!Now they have Iron Man Experience n d Newly open Ant Man n d Wasp!!Ironman .. Great feature n so Exciting, especially d whole scenery of HK (HK central area to Kowloon)!Antman .. Changed by previous Buzz lightyear! More or less d same, but I'm expecting to have something most!!However, my boys like it!!Space Mountain .. Turns into Star Wars!! This 1 is Great!!!For cast members (staffs) .. Felt bit MINUS point from before!!! Just dun feel like its a Disney brand!! Seems more local like Ocean Park or even worst!!They got no SMILING face, but just wanna u to enter n attraction n leave!!Hello this is supposed to be Happiest Place on Earth brand!! But, just really Dont feel it!!Bakery in Main Street now have more attractive delicacies n Disney theme sweets .. These are Good Points!!Last, they also have Starbucks now inside the theme park!!",
         "Disneyland_HongKong"
        ],
        [
         "2",
         "670623270",
         "4",
         "2019-4",
         "United Arab Emirates",
         "Thanks God it wasn   t too hot or too humid when I was visiting the park   otherwise it would be a big issue (there is not a lot of shade).I have arrived around 10:30am and left at 6pm. Unfortunately I didn   t last until evening parade, but 8.5 hours was too much for me.There is plenty to do and everyone will find something interesting for themselves to enjoy.It wasn   t extremely busy and the longest time I had to queue for certain attractions was 45 minutes (which is really not that bad).Although I had an amazing time, I felt a bit underwhelmed with choice of rides and attractions. The park itself is quite small (I was really expecting something grand   even the main castle which was closed by the way was quite small).The food options are good, few coffee shops (including Starbucks) and plenty of gift shops. There was no issue with toilets as they are everywhere.All together it was a great day out and I really enjoyed it.",
         "Disneyland_HongKong"
        ],
        [
         "3",
         "670607911",
         "4",
         "2019-4",
         "Australia",
         "HK Disneyland is a great compact park. Unfortunately there is quite a bit of maintenance work going on at present so a number of areas are closed off (including the famous castle) If you go midweek, it is not too crowded and certainly no where near as bus as LA Disneyland. We did notice on this visit that prices for food, drinks etc have really gone through the roof so be prepared to pay top dollar for snacks (and avoid the souvenir shops if you can) Regardless, kids will love it.",
         "Disneyland_HongKong"
        ],
        [
         "4",
         "670607296",
         "4",
         "2019-4",
         "United Kingdom",
         "the location is not in the city, took around 1 hour from Kowlon, my kids like disneyland so much, everything is fine.   but its really crowded and hot in Hong Kong",
         "Disneyland_HongKong"
        ],
        [
         "5",
         "670591897",
         "3",
         "2019-4",
         "Singapore",
         "Have been to Disney World, Disneyland Anaheim and Tokyo Disneyland but I feel that Disneyland Hong Kong is really too small to be called a Disneyland. It has way too few rides and attractions. Souvenirs, food and even entrance tickets are slightly more expensive than other Disneyland as well. Basically, this park is good only for small children and people who has never been to Disney. The food choices were acceptable, mostly fast food, and not too expensive. Bottled water, however, was VERY expensive but they do have water fountains around for you to refill your water bottles. The parade was pretty good. It was crowded not a problem but what was the problem was the people were just so rude, the pushing and shoving cutting in lines for the rides, gift shops, food stands was just to much to take. forget trying to see one of the shows its a free for all for seats, i don't see how Disney can let this happen, it was by far the worst managed Disney property.",
         "Disneyland_HongKong"
        ],
        [
         "6",
         "670585330",
         "5",
         "2019-4",
         "India",
         "Great place! Your day will go by and you won't even know it. Obviously went there for my daughter and she absolutely loved it! Too bad the parade got canceled though.",
         "Disneyland_HongKong"
        ],
        [
         "7",
         "670574142",
         "3",
         "2019-3",
         "Malaysia",
         "Think of it as an intro to Disney magic for the little ones. Almost all of the attractions can be completed in 1.5days.One drawback was the timing. For example, Disney's Storybook Theatre is closed Wed Thu for private events. Some restaurants close mid week Tue Thur as well. So best not to plan your visit during mid week.The biggest disappointment is the food at the Park. Even Maxim's is so so only. The only decent Restaurant is Main Street Corner Cafe and the Main Street Bakery. And do be prepared for the typical abrupt HongKong style service from the serving staff.",
         "Disneyland_HongKong"
        ],
        [
         "8",
         "670571027",
         "2",
         "2019-4",
         "Australia",
         "Feel so let down with this place,the Disneyland train was fantastic until you get past the station,bad signage, terrible staff who just did not want to be there ,it was rainning and rides were not working could not find a map of place, over priced fun park. Disney characters only 2 seen under a cabana having photos with visitors queuing up in the rain. Dont waste your money. Walt Disney would be horrified, not enough eating places for the amount of people or rest rooms. Seems they are building something but who knows what. No atmosphere of fun and fantasy. ",
         "Disneyland_HongKong"
        ],
        [
         "9",
         "670570869",
         "5",
         "2019-3",
         "India",
         "I can go on talking about Disneyland. Whatever I say about it, is less. Disneyland is all about your childhood dreams come true. Starting from the Entrance, the environment, popcorn, the shows, everything. Even the MTR Trains and the station is specially designed. In my opinion one should by a Two Day Ticket to explore it well if you have time. Else few of the attractions may remain incomplete in one day. An online Two Day Ticket can save around HKD 100 in comparison to an on spot ticket.  Must NOT Miss  attractions include the Jungle River Cruise, Micky's Phillhar Magic (a 4D Show), The Lion King ShowIt is better to have some home work regarding the Show Timings so that you can maximise the number of shows you can cover. It is better to avoid Sundays or the public holidays to avoid rush.",
         "Disneyland_HongKong"
        ],
        [
         "10",
         "670443403",
         "5",
         "2019-4",
         "United States",
         "Disneyland never cease to amaze me! I've been to Disneyland florida and I thought I have exhausted the kid in me but nope! I still had so much fun in disneyland hong kong. 2 DL off my bucketlist and more to come!     ",
         "Disneyland_HongKong"
        ],
        [
         "11",
         "670435886",
         "5",
         "2019-4",
         "Canada",
         "We spent the day here with our grown kids and I have to admit we had a great time. It seems the kids never tire of Disney. There aren   t as many rides as the states Disney parks but they have some great ones no less. Do the haunted house, catch the lion king show, space mountain, and the iron man experience to list a few. They have lots of shops that you have to spend some money in of course. The kids will love the day!",
         "Disneyland_HongKong"
        ],
        [
         "12",
         "670376905",
         "4",
         "2019-4",
         "Australia",
         "We spend two days, the second day went early then went straight to the back of the park, no lineups for so children got to go on many rides, some twice in a row. This Disneyland is very suitable for young children ours were 7,6,5,4,3 and 1 so most of them could go on all the rides, it was disappointing the castle was closed no nightly fireworks. Would not like to go in the hot season.",
         "Disneyland_HongKong"
        ],
        [
         "13",
         "670324965",
         "5",
         "2019-4",
         "Philippines",
         "It was indeed the happiest place on earth! My family had really fun and it made my daughter's birthday a memorable one!",
         "Disneyland_HongKong"
        ],
        [
         "14",
         "670274554",
         "5",
         "2018-9",
         "Australia",
         "This place is HUGE! Definately need more than one day. We had 3 children aged 11, 9 & 6 and they loved it. A great variety of rides and attractions for all ages. Food options were fantastic with 3D models of what you were ordering. Staff were fantastic, very helpful. An awesome family experience. ",
         "Disneyland_HongKong"
        ],
        [
         "15",
         "670205135",
         "3",
         "2019-1",
         "United Kingdom",
         "We brought tickets before we left and got 2 days for less than the price of 1. After visiting would advise everyone to look for an online deal not worth the walk up price. Castle was closed due to that area being refurbished and altered, weekday aprox no more than a 30 min wait for rides with most being less than that would not recommend weekends or holidays. As has been said like all Disney parks and theme parks in general food and drink is expensive .This is a small park and can easily be done in 1 day",
         "Disneyland_HongKong"
        ],
        [
         "16",
         "670199487",
         "4",
         "2019-4",
         "Myanmar (Burma)",
         "Its huge , not enough to visit in one day. We did with 2 days pass ... all the scenes were amazing ... you were like in movies, fairytales, etc. At 8 pm, we have enjoyed lots with the character show on the street. Must Visit !!! ",
         "Disneyland_HongKong"
        ],
        [
         "17",
         "670129921",
         "3",
         "2019-4",
         "United Kingdom",
         "Around   60 per person and if you want to eat or drink at any point it was cost you a small fortune. If you go on a week day like we did I assume like us you will wait around half an hour per ride. At the time we went the Disney castle was under construction.. it doesn't look like it will be finished soon. Fast track is free for everyone but single rider was a lot faster. An average day at an expensive place. ",
         "Disneyland_HongKong"
        ],
        [
         "18",
         "670099231",
         "4",
         "2019-4",
         "Australia",
         "It   s Disneyland! It just does not need reviewing!  Place speaks for itself.  However smaller than I expected.  Great experience",
         "Disneyland_HongKong"
        ],
        [
         "19",
         "670033848",
         "5",
         "2018-11",
         "Hong Kong",
         "There is nothing more to say except that you become a child once again as you step inside Disneyland in HK!  Easy to go and come out with dedicated trams and subway stations.  Wait for the parade at sunset it is definitely worth waiting!",
         "Disneyland_HongKong"
        ],
        [
         "20",
         "670030877",
         "5",
         "2019-4",
         "United Kingdom",
         "We bought a 2 day tourist ticket via Klook which made it better value. It was good to have a day to get our bearings and a second day to go on the rides we missed and to go back on our favourite ones again. It also means less queuing.The shows and parades were amazing. We saw the Lion King, Moana and Mickey   s Wondrous Book. Unfortunately there is some works on so the Castle isn   t visible and the train is not open. We still had a magical time.  ",
         "Disneyland_HongKong"
        ],
        [
         "21",
         "670022335",
         "3",
         "2019-4",
         "United States",
         "First off I'm not a really big Disneyland fan. I live about 20 minutes from the California Disneyland, and haven't been in over 10 years (by choice). We were on vacation in Hong Kong and were able to get free tickets, so why not. First getting there by subway from downtown was super easy. I will say I was impressed with how the train that takes you there was decked out in all the Disney themes. Next the park was okay just super small compared to the one here in California. The castle was under construction so that kinda of sucks and the train didn't run. We went on a Wednesday so it was slow. There are not a lot of rides, so please don't come with that idea. It's a nice place for little kids, but thrill seekers stay at home. One tip make sure you read the description of each ride before you wait in line, because I will never get those 30 minutes of my life back (Iron man experience).",
         "Disneyland_HongKong"
        ],
        [
         "22",
         "670007081",
         "3",
         "2019-4",
         "United States",
         "Mickey and the Wounderous book was great and the kids love it. The new Ant man attraction was good for all ages. Our four year old love the pubs afraid waiting in line because of the loud noises. The 10 year old was afraid of Iron Man   s ride it   s good for 12 and I   ll probably but it was a great ride. The castle is under major construction so there   s no fireworks. Overall the park is still beautiful and wonderful to visit and buy the teacup ride there is a good restaurant that has Standard Chinese food at reasonable prices for Disney. You   ll Have a great day or two. Still probably the best attraction in Hong Kong for children one of the top two for sure. Adults can go on roller coasters and other rides as well they will not be disappointed. ",
         "Disneyland_HongKong"
        ],
        [
         "23",
         "669996858",
         "3",
         "2019-4",
         "Singapore",
         "I   ve been to Hong Kong Disneyland twice and even with new attractions such as the Ant Man and the Wasp, the experience was really flat and not as enjoyable as other Disneylands in the region. With Sleeping Beauty Castle under renovation, pictures taken at the main square isn   t that appealing with the scaffolding in sight. Souvenirs, food and even entrance tickets are slightly more expensive than other Disneylands. ",
         "Disneyland_HongKong"
        ],
        [
         "24",
         "669783708",
         "5",
         "2019-4",
         "Australia",
         "GO early if you want to do photos with the signboards and Mickey Donald Duck. Otherwise, you could spend an hour just waiting in line to get a free photo. The paid photo is also available at a price.Tomorrow land Iron Man was excellent and we did it twice.Philar Magic is really awesome.Fantasy Land is great for the rides.Adventure Land has some nice opportunities to take photos with Tarzan, a treetop house visit, a boat cruise for kids.Grizzly Gulch was one of my favourites, Roller Coaster ride was worth the 15 minute wait.",
         "Disneyland_HongKong"
        ],
        [
         "25",
         "669548161",
         "3",
         "2019-4",
         "Hong Kong",
         "Disneylands the world over are generic apart from the language. This was no different than the others. It was a shame about all the building work and some closed eating areas.  Definitely worth a visit if you have young children.",
         "Disneyland_HongKong"
        ],
        [
         "26",
         "669528186",
         "3",
         "2019-4",
         "Australia",
         "This was my second trip here, the first been about 3 years ago. This is a smallish Disneyland park. The attractions are of a high standard but there are few thrill rides and no outdoor roller coaster. The park was clean and tidy. Food was expensive in the park not of an excellent qualify (ie served like warm or cold) and there were few vegetarian options.The castle was under renovation at the time of my visit. The park is easy to walk around and many of the attractions are great for kids. Lines were virtually non existent with our longest wait 20 minutesOverall worth a visit if you are with the kids in Hong Kong and have the time. The park entry is also comparatively inexpensive when compared to other Disneyland parks.",
         "Disneyland_HongKong"
        ],
        [
         "27",
         "669403596",
         "5",
         "2018-12",
         "Philippines",
         "We have been to Hong Kong Disneyland a few times already but we still want to come back. Why? Because there are rides we were too chicken to try the first visits that we finally had the courage to try and we ended up loving them. We love the Big Grizzly Mountain ride. We thought it will be too scary but we love it now. Will be back again!",
         "Disneyland_HongKong"
        ],
        [
         "28",
         "669353396",
         "5",
         "2019-4",
         "United Kingdom",
         "We visited here on a Wednesday. We arrived for opening and found the queue times to be short and had done most the rides we wanted to by early afternoon. Unfortunately there were no fireworks due to the castle being renovated and we have seen many parades at Disney world so we decided not to stay for the evening. ",
         "Disneyland_HongKong"
        ],
        [
         "29",
         "669186152",
         "3",
         "2019-4",
         "Australia",
         "I need to say I have been to    home of Disney    Disneyland Anaheim. HK Disney is about an 8th of that park!    Biggest ride    (as in scary) was Space Mountain. Mostly kiddy rides other than that. We did really enjoy the Lion King show. I can   t get over how expensive it was. Water equates to $6 AUD a small bottle and a burger combo meal equated $22 AUD!!!! We also stayed at Disney Hollywood Hotel   where they have u by the balls and charge insane prices ($120 AUD) for buffet dinner or $55 AUD for breakfast. There are no shops   cafes   supermarkets nearby to grab a snack or cheap dinner, unless u take 2 trains! After travelling thru HK  China for 3 weeks it was just crazy expensive for crappy deep fried food or a flavourless bowl of lettuce salad. Very few food places open. Castle under maintenance. Train under maintenance. vouchers we got on the way in stating ALL shops on main st have 10% discount before 1030... then told at bakery    that not here   ?!!! At home that   s called false advertising?!! Toy Story land was insanely hot   no shade, sun bouncing off light concrete   my husband actually had a hypo while waiting for daughter on ride coz it   s so hot. Come on Disneyland... surely you can put up some    camo style shades    so waiting parents don   t pass out?! A few seats for elderly wouldn   t go astray either. All up pretty disappointing experience and about $900 AUD poorer, for 2 adults & 1 child for 2 day pass (note: u won   t need to go back for a second day). ",
         "Disneyland_HongKong"
        ],
        [
         "30",
         "669093045",
         "5",
         "2019-4",
         "Australia",
         "Took a five year old and a two year old. Could not fault anything other than a hire pram being pinched, which was quickly replaced.  Staff amazing. If you can stay at one of the hotels, do so.  Makes it all much easier.",
         "Disneyland_HongKong"
        ],
        [
         "31",
         "669050447",
         "4",
         "2019-4",
         "Australia",
         "A great day out even for adults.We can early and we're able to do almost all rides in a couple of hours. The restaurants were great and a good selection of different foods. Try the caramel popcorn! Unfortunately, when we went the bars and 1 restaurant was closed, but still other options available.The rides are mostly for little kids bit a couple were good for adults. The shopping was the highlight of the day with huge selection of Disney gifts and clothing. Note if there is a daily special get it early as it will sell out. There is not a lot of shade so bring hats and an umbrella.",
         "Disneyland_HongKong"
        ],
        [
         "32",
         "668819140",
         "5",
         "2019-4",
         "Australia",
         "I went to Hong Kong Disneyland with a little trepidation as our family had been to Disneyland in California 6 months previously.No trepidation needed, we all loved HKDL! Loved loved loved it.Yes, its much smaller than California and there are not as many fast paced rides, none the less, we had a great day. The park is beautiful and the experience is just like being at Anaheim.We went on a day where large amounts of rain were expected, so numbers were down. We had line ups of less than 5 minutes on most rides. The rain held off until 3pm and we'd been able to go through all of the park by that time and we were going back over rides we wanted to do again. Once the rain started we found that most people huddled under their umbrellas, where as we went on all the undercover rides over and over.I totally recommend HKDL, just keep in mind it is smaller and slower paced than other Disney parks.",
         "Disneyland_HongKong"
        ],
        [
         "33",
         "668798543",
         "5",
         "2019-4",
         "China",
         "This Disneyland is a lot of fun. There are many rides that are good like the Iron man experience, hyperspace mountain, the toy story car, and many others. I went to Shanghai Disneyland as well and that one is so crowded you can   t go on a lot of rides but in Hong Kong we were able to ride almost every ride in a day. Lines were very short and the park is small so it   s easy to get around. ",
         "Disneyland_HongKong"
        ],
        [
         "34",
         "668777351",
         "4",
         "2018-12",
         "Australia",
         "We have been to Disneyland in LA two times, and Tokyo Disneyland Disney Sea. Walking through the gates at HK Disneyland felt like going back to LA. This is because the park is owned by Disney and HK Government. We loved the quietness of HK Disneyland in the morning, most things in HK don't open until 10am, so to walk in with very few people in front of us was great. Toy Storyland doesn't open until 11am. We purchased our tickets online from Australia and printed them before we left. You are sent an email with a link to an electronic version with QR codes and personalised characters, but we used the printed version much easier and the website can be a little slow. We also purchased the Dining Vouchers as well, this entitled us to Lunch or Dinner a popcorn or a iceblock. If you are there for two days, like we were then just double the number of vouchers you purchase. HK Disneyland uses the old style Fast pass system, scan your ticket and get a printed fastpass. We were staying at Disney Explorers Lodge and received fast passes to certain rides from there as well. The food in HK Disneyland is aimed at the Asian Market, although there are restaurants who serve burgers etc. If you have fussy eaters then beware you may have limited choices, but over all the food was Disney quality. We ate at the Starliner Restaurant at Tomorrowland.We loved Space Mountain with the Star Wars overlay, sooo coool. The is no Pirates of the Caribbean ride, sad, but the Lion King show and Mickey's PhilharMagic shows are great fun.Unique to the HK Disneyland is Mystic Manor, an amazing trackless ride so fun we went on it three times, the Big Grizzly Mountain Runaway Mine Cars is great fun, the experience varies depending on where you are sitting, we had front row, amazing, and last row, still fun but a little rough. Also unique to HK Disneyland is the Iron Man Experience, a ride simulator on a Stark Industries flyer through Hong Kong. Lots of fun.When you ride the Jungle Cruise remember to choose the English line or Cantonese line as the skippers script is done in both. They say there is no difference in the line waiting time, we didn't really notice it.Yes HKL Disneyland is smaller than LA Disneyland  Tokyo Disneyland but two days allows you to see pretty much everything and not a break net speed. We are a Disney loving family and our girls were aged 17, 15, and 10 when we attended the park. The Christmas decorations and the parade were great.HK Disneyland is on the MTR line just change at Sunny Bay Station for the Disneyland line. You can use your Octopus Card to travel on the MTR. There are shuttle buses that run from the Disney Hotels to the transport hub at Disneyland and you can walk if you want to along the bay from the hotels. It would be roughly 20 minutes walk from the Disneyland Hotel along the bay. There is also a ferry that runs from Central to HK Disneyland but the MTR train is the best option in my opinion, especially as it has Mickey Shaped Windows and Disney theming inside the train carriages.",
         "Disneyland_HongKong"
        ],
        [
         "35",
         "668611003",
         "4",
         "2019-4",
         "Australia",
         "Australian family of four with 2 kids (12 and 9) enjoyed a full day out at Hong Kong Disneyland with plenty to do and see.If you have been to other Disney's and get a chance to visit Hong Kong   I say definitely do it. There are a couple of unique Hong Kong experiences including two Marvel attractions   Antman and Ironman   both which we enjoyed.For thrill seekers there are a couple of great rides   The Big Grizzly Mountain was probably our favourite   it was unexpected and fast. And the RC Racer in Toystoryland definitely worth the wait.For families with younger kids there is heaps here to do   we kind of skipped fantasyland   but for young families you would probably spend a lot of the day here.The park is easy to get to as well   the dedicated Disney train line was fun to ride on   and with an easily navigable MTR in Hong Kong it was simple and cheap to get to the Park.",
         "Disneyland_HongKong"
        ],
        [
         "36",
         "668374644",
         "4",
         "2019-4",
         "United Kingdom",
         "If your are travelling to Disney land from mong cok you can purchase your tickets from one of the travel shops at a discounted rate (we purchased ours from Hong Thai travel) this is in the bank centre on Nathan road, right next to the Mong Kok station.   if you go to level 4 there are numerous travel shops (including CTS) which from other reviews that I read is where most people purchased the tickets. We asked around the shops on level 4 for the price of their Disneyland ticket (including CTS) and we found Hong Thai travel the cheapest. The tickets were $557HKD each for adults. I would recommend asking around each shop for their price on the day. They seem to all open at 10am. The sales advisor will hand you a letter which you then take to the box office at Disney land and swap for entry tickets   it was very easy and we had no problems. Hong Thai travel Bank centre Nathan roadAs the park opened at 10.30am we decided to get a taxi on the way there, this costs roughly $200HKD from Mong Kok and takes around 20 minutes.On the way back we used the trains, the route is:Disney land to Sunny Bay (pink line)Sunny Bay to Lai King Station (orange line)Lai King Station to Mong Kok (red line)The trains costs are around $20HKD and takes roughly 1 hour.  if you want to catch the train to Disneyland from Mong Kok the route is;Mong Kok to Lai King Station (red line)Lai King Station to Sunny Bay Station (orange line)Sunny Bay Station to Disneyland (pink line)",
         "Disneyland_HongKong"
        ],
        [
         "37",
         "668242919",
         "4",
         "2019-4",
         "Australia",
         "Hong Kong is easy to get to via the MTR from Kowloon, great signage and fast. Our day started well but just after arriving it started to rain quite heavily and didn't stop until mid afternoon. Characters were out in the main street but only saw two during the day, probably due to the rain. Even though the crowds on entry were big once inside it didn't seem crowded at all, Toy Story Land was a ghost town with no one going on the rides in the rain. We enjoy the rides that were open and all in all had a good day. Had heard great things about Mystic Manor but found it just okay, loved Hyperspace Mountain, Ant Man and Ironman. Big Grizzly Mountain Runaway Mine cars were my favorite of the day! Though shopping wasn't as good as Disneyland in the USA which was disappointing, catering mainly to children. Happy to have visited but don't think I'd go to Hong Kong again.",
         "Disneyland_HongKong"
        ],
        [
         "38",
         "668209978",
         "5",
         "2018-9",
         "Australia",
         "You have to visit to understand the memorable experience. It is a place that brings out the child in everyone. You have to stay for the fireworks. Food is expensive so take snacks along.",
         "Disneyland_HongKong"
        ],
        [
         "39",
         "668111738",
         "5",
         "2018-6",
         "Hong Kong",
         "HKDL got different event for different period. Like Jan Feb for Chines New Year, Apr May for Spring Carnival, then Summer, Halloween and Christmas, each event got different theme for both charaters costume and decorate, and sometimes might got the special daily parade too. Thats why recommend to check clearly which event you want to join before you make the disney trip. If you don't like crowded, Mar & November without any event happening will be your choice!",
         "Disneyland_HongKong"
        ],
        [
         "40",
         "667962395",
         "3",
         "2019-4",
         "United States",
         "The park is great if this is the only amusement park available to you. It is small and the rides are very tame. The park can be done in 3 4 of a day. Disney is always clean and has the best customer service.",
         "Disneyland_HongKong"
        ],
        [
         "41",
         "667949538",
         "5",
         "2019-4",
         "Australia",
         "Visited here with the family and had a very memorable experience. It didn   t seem as big as Anaheim, but very clean and well maintained.  Received priority queuing passes but didn   t need them as the lines were very short.",
         "Disneyland_HongKong"
        ],
        [
         "42",
         "667897767",
         "4",
         "2019-3",
         "Philippines",
         "It's always going to be fun at Disneyland. These are a few of my reminders: don't bring selfie sticks and huge tripods you can bring bottled water or if you have a reusable container, use that instead food can be expensive so eat plenty before going here. Just don't ride the rollercoasters right away. don't miss the Festival of the Lion King Show. You can forget the Moana production though if you're expecting the songs from the movie and to see Maui wear comfortable shoes. there will be lots of walking have fun and don't get discouraged by long queues. you'll have your turn sooner than you think.",
         "Disneyland_HongKong"
        ],
        [
         "43",
         "667633252",
         "4",
         "2019-2",
         "United States",
         "To be honest it rained nearly all day, if the weather was better i'm sure my overall impression would have been much better. It lacks the thrill seeking rides of other disney parks. That being said it also lacked the ridiculously long quees. Waits were around 5 minutes! ",
         "Disneyland_HongKong"
        ],
        [
         "44",
         "667600609",
         "4",
         "2018-10",
         "United Kingdom",
         "A super small but cute Disney park   if you're a Disney fan you tick this park off in a day though, be warned, if you're used to the service in Walt Disney World and Disneyland, it doesn't seem to  translate  as well at Hong Kong Disneyland. The food is also not as good   we had lunch from the Lucky Nugget Saloon, which was mediocre at best.A fun day though, regardless.",
         "Disneyland_HongKong"
        ],
        [
         "45",
         "667509247",
         "4",
         "2019-4",
         "United States",
         "Plaza Inn was fantastic, and the kids in our group loved the rides. It   s smaller than Disneyland, but if you love Disney, it   s worth the visit. If you   re not super into Disney, I   d probably skip and just go to Disneyland in Anaheim.",
         "Disneyland_HongKong"
        ],
        [
         "46",
         "667288224",
         "5",
         "2019-3",
         "Australia",
         "We first did Disneyworld in Orlando some 40 yrs ago with our 2 year old.Back then, we had to buy different value tickets for various rides whereas that has changed and the entry fee now covers all rides etc, except for food. What hasn   t changed. The place is remarkably clean and well maintained given the number of visitors they see each day. Some rides had a long wait ie 40 minutes, so skipped them till later in the day ie 4 5pm, and the wait period was down to less than 10minutes.A very full day. We got there around 10.30 am and left when the street parade finished at around 9.15pm. Exhausting, but simply loved it ",
         "Disneyland_HongKong"
        ],
        [
         "47",
         "667095433",
         "5",
         "2019-4",
         "United Kingdom",
         "Had a great time at Disneyland. Great, but can be busy on Saturday and Sunday. Only point to note, is that the park opens at 10:00 but the first zone does not open until 10:30. I purchased priority tickets, if going at the weekend I would recommend priority tickets. Queues smaller during the week and not sure if priority needed.",
         "Disneyland_HongKong"
        ],
        [
         "48",
         "667093819",
         "4",
         "2019-4",
         "Australia",
         "We had a terrific time at Disneyland HongKong   rides were fun, waiting times ok, shows were enjoyable, very clean, staff super friendly   only let down was average food but to be expected.",
         "Disneyland_HongKong"
        ],
        [
         "49",
         "667079818",
         "5",
         "2019-4",
         "Australia",
         "Even though the rain set in for most of the day, as an adult we still had a fun time at Disneyland Hong Kong",
         "Disneyland_HongKong"
        ]
       ],
       "shape": {
        "columns": 6,
        "rows": 42656
       }
      },
      "text/html": [
       "<div>\n",
       "<style scoped>\n",
       "    .dataframe tbody tr th:only-of-type {\n",
       "        vertical-align: middle;\n",
       "    }\n",
       "\n",
       "    .dataframe tbody tr th {\n",
       "        vertical-align: top;\n",
       "    }\n",
       "\n",
       "    .dataframe thead th {\n",
       "        text-align: right;\n",
       "    }\n",
       "</style>\n",
       "<table border=\"1\" class=\"dataframe\">\n",
       "  <thead>\n",
       "    <tr style=\"text-align: right;\">\n",
       "      <th></th>\n",
       "      <th>Review_ID</th>\n",
       "      <th>Rating</th>\n",
       "      <th>Year_Month</th>\n",
       "      <th>Reviewer_Location</th>\n",
       "      <th>Review_Text</th>\n",
       "      <th>Branch</th>\n",
       "    </tr>\n",
       "  </thead>\n",
       "  <tbody>\n",
       "    <tr>\n",
       "      <th>0</th>\n",
       "      <td>670772142</td>\n",
       "      <td>4</td>\n",
       "      <td>2019-4</td>\n",
       "      <td>Australia</td>\n",
       "      <td>If you've ever been to Disneyland anywhere you...</td>\n",
       "      <td>Disneyland_HongKong</td>\n",
       "    </tr>\n",
       "    <tr>\n",
       "      <th>1</th>\n",
       "      <td>670682799</td>\n",
       "      <td>4</td>\n",
       "      <td>2019-5</td>\n",
       "      <td>Philippines</td>\n",
       "      <td>Its been a while since d last time we visit HK...</td>\n",
       "      <td>Disneyland_HongKong</td>\n",
       "    </tr>\n",
       "    <tr>\n",
       "      <th>2</th>\n",
       "      <td>670623270</td>\n",
       "      <td>4</td>\n",
       "      <td>2019-4</td>\n",
       "      <td>United Arab Emirates</td>\n",
       "      <td>Thanks God it wasn   t too hot or too humid wh...</td>\n",
       "      <td>Disneyland_HongKong</td>\n",
       "    </tr>\n",
       "    <tr>\n",
       "      <th>3</th>\n",
       "      <td>670607911</td>\n",
       "      <td>4</td>\n",
       "      <td>2019-4</td>\n",
       "      <td>Australia</td>\n",
       "      <td>HK Disneyland is a great compact park. Unfortu...</td>\n",
       "      <td>Disneyland_HongKong</td>\n",
       "    </tr>\n",
       "    <tr>\n",
       "      <th>4</th>\n",
       "      <td>670607296</td>\n",
       "      <td>4</td>\n",
       "      <td>2019-4</td>\n",
       "      <td>United Kingdom</td>\n",
       "      <td>the location is not in the city, took around 1...</td>\n",
       "      <td>Disneyland_HongKong</td>\n",
       "    </tr>\n",
       "    <tr>\n",
       "      <th>...</th>\n",
       "      <td>...</td>\n",
       "      <td>...</td>\n",
       "      <td>...</td>\n",
       "      <td>...</td>\n",
       "      <td>...</td>\n",
       "      <td>...</td>\n",
       "    </tr>\n",
       "    <tr>\n",
       "      <th>42651</th>\n",
       "      <td>1765031</td>\n",
       "      <td>5</td>\n",
       "      <td>missing</td>\n",
       "      <td>United Kingdom</td>\n",
       "      <td>i went to disneyland paris in july 03 and thou...</td>\n",
       "      <td>Disneyland_Paris</td>\n",
       "    </tr>\n",
       "    <tr>\n",
       "      <th>42652</th>\n",
       "      <td>1659553</td>\n",
       "      <td>5</td>\n",
       "      <td>missing</td>\n",
       "      <td>Canada</td>\n",
       "      <td>2 adults and 1 child of 11 visited Disneyland ...</td>\n",
       "      <td>Disneyland_Paris</td>\n",
       "    </tr>\n",
       "    <tr>\n",
       "      <th>42653</th>\n",
       "      <td>1645894</td>\n",
       "      <td>5</td>\n",
       "      <td>missing</td>\n",
       "      <td>South Africa</td>\n",
       "      <td>My eleven year old daughter and myself went to...</td>\n",
       "      <td>Disneyland_Paris</td>\n",
       "    </tr>\n",
       "    <tr>\n",
       "      <th>42654</th>\n",
       "      <td>1618637</td>\n",
       "      <td>4</td>\n",
       "      <td>missing</td>\n",
       "      <td>United States</td>\n",
       "      <td>This hotel, part of the Disneyland Paris compl...</td>\n",
       "      <td>Disneyland_Paris</td>\n",
       "    </tr>\n",
       "    <tr>\n",
       "      <th>42655</th>\n",
       "      <td>1536786</td>\n",
       "      <td>4</td>\n",
       "      <td>missing</td>\n",
       "      <td>United Kingdom</td>\n",
       "      <td>I went to the Disneyparis resort, in 1996, wit...</td>\n",
       "      <td>Disneyland_Paris</td>\n",
       "    </tr>\n",
       "  </tbody>\n",
       "</table>\n",
       "<p>42656 rows × 6 columns</p>\n",
       "</div>"
      ],
      "text/plain": [
       "       Review_ID  Rating Year_Month     Reviewer_Location  \\\n",
       "0      670772142       4     2019-4             Australia   \n",
       "1      670682799       4     2019-5           Philippines   \n",
       "2      670623270       4     2019-4  United Arab Emirates   \n",
       "3      670607911       4     2019-4             Australia   \n",
       "4      670607296       4     2019-4        United Kingdom   \n",
       "...          ...     ...        ...                   ...   \n",
       "42651    1765031       5    missing        United Kingdom   \n",
       "42652    1659553       5    missing                Canada   \n",
       "42653    1645894       5    missing          South Africa   \n",
       "42654    1618637       4    missing         United States   \n",
       "42655    1536786       4    missing        United Kingdom   \n",
       "\n",
       "                                             Review_Text               Branch  \n",
       "0      If you've ever been to Disneyland anywhere you...  Disneyland_HongKong  \n",
       "1      Its been a while since d last time we visit HK...  Disneyland_HongKong  \n",
       "2      Thanks God it wasn   t too hot or too humid wh...  Disneyland_HongKong  \n",
       "3      HK Disneyland is a great compact park. Unfortu...  Disneyland_HongKong  \n",
       "4      the location is not in the city, took around 1...  Disneyland_HongKong  \n",
       "...                                                  ...                  ...  \n",
       "42651  i went to disneyland paris in july 03 and thou...     Disneyland_Paris  \n",
       "42652  2 adults and 1 child of 11 visited Disneyland ...     Disneyland_Paris  \n",
       "42653  My eleven year old daughter and myself went to...     Disneyland_Paris  \n",
       "42654  This hotel, part of the Disneyland Paris compl...     Disneyland_Paris  \n",
       "42655  I went to the Disneyparis resort, in 1996, wit...     Disneyland_Paris  \n",
       "\n",
       "[42656 rows x 6 columns]"
      ]
     },
     "execution_count": 3,
     "metadata": {},
     "output_type": "execute_result"
    }
   ],
   "source": [
    "original = pd.read_csv(\"data/DisneylandReviews.csv\", encoding='latin1')\n",
    "df = original.copy()\n",
    "df"
   ]
  },
  {
   "cell_type": "code",
   "execution_count": 4,
   "metadata": {},
   "outputs": [
    {
     "data": {
      "application/vnd.microsoft.datawrangler.viewer.v0+json": {
       "columns": [
        {
         "name": "index",
         "rawType": "int64",
         "type": "integer"
        },
        {
         "name": "Review_ID",
         "rawType": "int64",
         "type": "integer"
        },
        {
         "name": "Rating",
         "rawType": "int64",
         "type": "integer"
        },
        {
         "name": "Year_Month",
         "rawType": "datetime64[ns]",
         "type": "datetime"
        },
        {
         "name": "Location",
         "rawType": "category",
         "type": "unknown"
        },
        {
         "name": "Review_Text",
         "rawType": "object",
         "type": "string"
        },
        {
         "name": "Branch",
         "rawType": "category",
         "type": "unknown"
        }
       ],
       "conversionMethod": "pd.DataFrame",
       "ref": "7cba5ffb-5756-427e-b882-4f447047dadf",
       "rows": [
        [
         "0",
         "670772142",
         "4",
         "2019-04-01 00:00:00",
         "Australia",
         "If you've ever been to Disneyland anywhere you'll find Disneyland Hong Kong very similar in the layout when you walk into main street! It has a very familiar feel. One of the rides  its a Small World  is absolutely fabulous and worth doing. The day we visited was fairly hot and relatively busy but the queues moved fairly well. ",
         "Disneyland_HongKong"
        ],
        [
         "1",
         "670682799",
         "4",
         "2019-05-01 00:00:00",
         "Philippines",
         "Its been a while since d last time we visit HK Disneyland .. Yet, this time we only stay in Tomorrowland .. AKA Marvel land!Now they have Iron Man Experience n d Newly open Ant Man n d Wasp!!Ironman .. Great feature n so Exciting, especially d whole scenery of HK (HK central area to Kowloon)!Antman .. Changed by previous Buzz lightyear! More or less d same, but I'm expecting to have something most!!However, my boys like it!!Space Mountain .. Turns into Star Wars!! This 1 is Great!!!For cast members (staffs) .. Felt bit MINUS point from before!!! Just dun feel like its a Disney brand!! Seems more local like Ocean Park or even worst!!They got no SMILING face, but just wanna u to enter n attraction n leave!!Hello this is supposed to be Happiest Place on Earth brand!! But, just really Dont feel it!!Bakery in Main Street now have more attractive delicacies n Disney theme sweets .. These are Good Points!!Last, they also have Starbucks now inside the theme park!!",
         "Disneyland_HongKong"
        ],
        [
         "2",
         "670623270",
         "4",
         "2019-04-01 00:00:00",
         "United Arab Emirates",
         "Thanks God it wasn   t too hot or too humid when I was visiting the park   otherwise it would be a big issue (there is not a lot of shade).I have arrived around 10:30am and left at 6pm. Unfortunately I didn   t last until evening parade, but 8.5 hours was too much for me.There is plenty to do and everyone will find something interesting for themselves to enjoy.It wasn   t extremely busy and the longest time I had to queue for certain attractions was 45 minutes (which is really not that bad).Although I had an amazing time, I felt a bit underwhelmed with choice of rides and attractions. The park itself is quite small (I was really expecting something grand   even the main castle which was closed by the way was quite small).The food options are good, few coffee shops (including Starbucks) and plenty of gift shops. There was no issue with toilets as they are everywhere.All together it was a great day out and I really enjoyed it.",
         "Disneyland_HongKong"
        ],
        [
         "3",
         "670607911",
         "4",
         "2019-04-01 00:00:00",
         "Australia",
         "HK Disneyland is a great compact park. Unfortunately there is quite a bit of maintenance work going on at present so a number of areas are closed off (including the famous castle) If you go midweek, it is not too crowded and certainly no where near as bus as LA Disneyland. We did notice on this visit that prices for food, drinks etc have really gone through the roof so be prepared to pay top dollar for snacks (and avoid the souvenir shops if you can) Regardless, kids will love it.",
         "Disneyland_HongKong"
        ],
        [
         "4",
         "670607296",
         "4",
         "2019-04-01 00:00:00",
         "United Kingdom",
         "the location is not in the city, took around 1 hour from Kowlon, my kids like disneyland so much, everything is fine.   but its really crowded and hot in Hong Kong",
         "Disneyland_HongKong"
        ],
        [
         "5",
         "670591897",
         "3",
         "2019-04-01 00:00:00",
         "Singapore",
         "Have been to Disney World, Disneyland Anaheim and Tokyo Disneyland but I feel that Disneyland Hong Kong is really too small to be called a Disneyland. It has way too few rides and attractions. Souvenirs, food and even entrance tickets are slightly more expensive than other Disneyland as well. Basically, this park is good only for small children and people who has never been to Disney. The food choices were acceptable, mostly fast food, and not too expensive. Bottled water, however, was VERY expensive but they do have water fountains around for you to refill your water bottles. The parade was pretty good. It was crowded not a problem but what was the problem was the people were just so rude, the pushing and shoving cutting in lines for the rides, gift shops, food stands was just to much to take. forget trying to see one of the shows its a free for all for seats, i don't see how Disney can let this happen, it was by far the worst managed Disney property.",
         "Disneyland_HongKong"
        ],
        [
         "6",
         "670585330",
         "5",
         "2019-04-01 00:00:00",
         "India",
         "Great place! Your day will go by and you won't even know it. Obviously went there for my daughter and she absolutely loved it! Too bad the parade got canceled though.",
         "Disneyland_HongKong"
        ],
        [
         "7",
         "670574142",
         "3",
         "2019-03-01 00:00:00",
         "Malaysia",
         "Think of it as an intro to Disney magic for the little ones. Almost all of the attractions can be completed in 1.5days.One drawback was the timing. For example, Disney's Storybook Theatre is closed Wed Thu for private events. Some restaurants close mid week Tue Thur as well. So best not to plan your visit during mid week.The biggest disappointment is the food at the Park. Even Maxim's is so so only. The only decent Restaurant is Main Street Corner Cafe and the Main Street Bakery. And do be prepared for the typical abrupt HongKong style service from the serving staff.",
         "Disneyland_HongKong"
        ],
        [
         "8",
         "670571027",
         "2",
         "2019-04-01 00:00:00",
         "Australia",
         "Feel so let down with this place,the Disneyland train was fantastic until you get past the station,bad signage, terrible staff who just did not want to be there ,it was rainning and rides were not working could not find a map of place, over priced fun park. Disney characters only 2 seen under a cabana having photos with visitors queuing up in the rain. Dont waste your money. Walt Disney would be horrified, not enough eating places for the amount of people or rest rooms. Seems they are building something but who knows what. No atmosphere of fun and fantasy. ",
         "Disneyland_HongKong"
        ],
        [
         "9",
         "670570869",
         "5",
         "2019-03-01 00:00:00",
         "India",
         "I can go on talking about Disneyland. Whatever I say about it, is less. Disneyland is all about your childhood dreams come true. Starting from the Entrance, the environment, popcorn, the shows, everything. Even the MTR Trains and the station is specially designed. In my opinion one should by a Two Day Ticket to explore it well if you have time. Else few of the attractions may remain incomplete in one day. An online Two Day Ticket can save around HKD 100 in comparison to an on spot ticket.  Must NOT Miss  attractions include the Jungle River Cruise, Micky's Phillhar Magic (a 4D Show), The Lion King ShowIt is better to have some home work regarding the Show Timings so that you can maximise the number of shows you can cover. It is better to avoid Sundays or the public holidays to avoid rush.",
         "Disneyland_HongKong"
        ],
        [
         "10",
         "670443403",
         "5",
         "2019-04-01 00:00:00",
         "United States",
         "Disneyland never cease to amaze me! I've been to Disneyland florida and I thought I have exhausted the kid in me but nope! I still had so much fun in disneyland hong kong. 2 DL off my bucketlist and more to come!     ",
         "Disneyland_HongKong"
        ],
        [
         "11",
         "670435886",
         "5",
         "2019-04-01 00:00:00",
         "Canada",
         "We spent the day here with our grown kids and I have to admit we had a great time. It seems the kids never tire of Disney. There aren   t as many rides as the states Disney parks but they have some great ones no less. Do the haunted house, catch the lion king show, space mountain, and the iron man experience to list a few. They have lots of shops that you have to spend some money in of course. The kids will love the day!",
         "Disneyland_HongKong"
        ],
        [
         "12",
         "670376905",
         "4",
         "2019-04-01 00:00:00",
         "Australia",
         "We spend two days, the second day went early then went straight to the back of the park, no lineups for so children got to go on many rides, some twice in a row. This Disneyland is very suitable for young children ours were 7,6,5,4,3 and 1 so most of them could go on all the rides, it was disappointing the castle was closed no nightly fireworks. Would not like to go in the hot season.",
         "Disneyland_HongKong"
        ],
        [
         "13",
         "670324965",
         "5",
         "2019-04-01 00:00:00",
         "Philippines",
         "It was indeed the happiest place on earth! My family had really fun and it made my daughter's birthday a memorable one!",
         "Disneyland_HongKong"
        ],
        [
         "14",
         "670274554",
         "5",
         "2018-09-01 00:00:00",
         "Australia",
         "This place is HUGE! Definately need more than one day. We had 3 children aged 11, 9 & 6 and they loved it. A great variety of rides and attractions for all ages. Food options were fantastic with 3D models of what you were ordering. Staff were fantastic, very helpful. An awesome family experience. ",
         "Disneyland_HongKong"
        ],
        [
         "15",
         "670205135",
         "3",
         "2019-01-01 00:00:00",
         "United Kingdom",
         "We brought tickets before we left and got 2 days for less than the price of 1. After visiting would advise everyone to look for an online deal not worth the walk up price. Castle was closed due to that area being refurbished and altered, weekday aprox no more than a 30 min wait for rides with most being less than that would not recommend weekends or holidays. As has been said like all Disney parks and theme parks in general food and drink is expensive .This is a small park and can easily be done in 1 day",
         "Disneyland_HongKong"
        ],
        [
         "16",
         "670199487",
         "4",
         "2019-04-01 00:00:00",
         "Myanmar (Burma)",
         "Its huge , not enough to visit in one day. We did with 2 days pass ... all the scenes were amazing ... you were like in movies, fairytales, etc. At 8 pm, we have enjoyed lots with the character show on the street. Must Visit !!! ",
         "Disneyland_HongKong"
        ],
        [
         "17",
         "670129921",
         "3",
         "2019-04-01 00:00:00",
         "United Kingdom",
         "Around   60 per person and if you want to eat or drink at any point it was cost you a small fortune. If you go on a week day like we did I assume like us you will wait around half an hour per ride. At the time we went the Disney castle was under construction.. it doesn't look like it will be finished soon. Fast track is free for everyone but single rider was a lot faster. An average day at an expensive place. ",
         "Disneyland_HongKong"
        ],
        [
         "18",
         "670099231",
         "4",
         "2019-04-01 00:00:00",
         "Australia",
         "It   s Disneyland! It just does not need reviewing!  Place speaks for itself.  However smaller than I expected.  Great experience",
         "Disneyland_HongKong"
        ],
        [
         "19",
         "670033848",
         "5",
         "2018-11-01 00:00:00",
         "Hong Kong",
         "There is nothing more to say except that you become a child once again as you step inside Disneyland in HK!  Easy to go and come out with dedicated trams and subway stations.  Wait for the parade at sunset it is definitely worth waiting!",
         "Disneyland_HongKong"
        ],
        [
         "20",
         "670030877",
         "5",
         "2019-04-01 00:00:00",
         "United Kingdom",
         "We bought a 2 day tourist ticket via Klook which made it better value. It was good to have a day to get our bearings and a second day to go on the rides we missed and to go back on our favourite ones again. It also means less queuing.The shows and parades were amazing. We saw the Lion King, Moana and Mickey   s Wondrous Book. Unfortunately there is some works on so the Castle isn   t visible and the train is not open. We still had a magical time.  ",
         "Disneyland_HongKong"
        ],
        [
         "21",
         "670022335",
         "3",
         "2019-04-01 00:00:00",
         "United States",
         "First off I'm not a really big Disneyland fan. I live about 20 minutes from the California Disneyland, and haven't been in over 10 years (by choice). We were on vacation in Hong Kong and were able to get free tickets, so why not. First getting there by subway from downtown was super easy. I will say I was impressed with how the train that takes you there was decked out in all the Disney themes. Next the park was okay just super small compared to the one here in California. The castle was under construction so that kinda of sucks and the train didn't run. We went on a Wednesday so it was slow. There are not a lot of rides, so please don't come with that idea. It's a nice place for little kids, but thrill seekers stay at home. One tip make sure you read the description of each ride before you wait in line, because I will never get those 30 minutes of my life back (Iron man experience).",
         "Disneyland_HongKong"
        ],
        [
         "22",
         "670007081",
         "3",
         "2019-04-01 00:00:00",
         "United States",
         "Mickey and the Wounderous book was great and the kids love it. The new Ant man attraction was good for all ages. Our four year old love the pubs afraid waiting in line because of the loud noises. The 10 year old was afraid of Iron Man   s ride it   s good for 12 and I   ll probably but it was a great ride. The castle is under major construction so there   s no fireworks. Overall the park is still beautiful and wonderful to visit and buy the teacup ride there is a good restaurant that has Standard Chinese food at reasonable prices for Disney. You   ll Have a great day or two. Still probably the best attraction in Hong Kong for children one of the top two for sure. Adults can go on roller coasters and other rides as well they will not be disappointed. ",
         "Disneyland_HongKong"
        ],
        [
         "23",
         "669996858",
         "3",
         "2019-04-01 00:00:00",
         "Singapore",
         "I   ve been to Hong Kong Disneyland twice and even with new attractions such as the Ant Man and the Wasp, the experience was really flat and not as enjoyable as other Disneylands in the region. With Sleeping Beauty Castle under renovation, pictures taken at the main square isn   t that appealing with the scaffolding in sight. Souvenirs, food and even entrance tickets are slightly more expensive than other Disneylands. ",
         "Disneyland_HongKong"
        ],
        [
         "24",
         "669783708",
         "5",
         "2019-04-01 00:00:00",
         "Australia",
         "GO early if you want to do photos with the signboards and Mickey Donald Duck. Otherwise, you could spend an hour just waiting in line to get a free photo. The paid photo is also available at a price.Tomorrow land Iron Man was excellent and we did it twice.Philar Magic is really awesome.Fantasy Land is great for the rides.Adventure Land has some nice opportunities to take photos with Tarzan, a treetop house visit, a boat cruise for kids.Grizzly Gulch was one of my favourites, Roller Coaster ride was worth the 15 minute wait.",
         "Disneyland_HongKong"
        ],
        [
         "25",
         "669548161",
         "3",
         "2019-04-01 00:00:00",
         "Hong Kong",
         "Disneylands the world over are generic apart from the language. This was no different than the others. It was a shame about all the building work and some closed eating areas.  Definitely worth a visit if you have young children.",
         "Disneyland_HongKong"
        ],
        [
         "26",
         "669528186",
         "3",
         "2019-04-01 00:00:00",
         "Australia",
         "This was my second trip here, the first been about 3 years ago. This is a smallish Disneyland park. The attractions are of a high standard but there are few thrill rides and no outdoor roller coaster. The park was clean and tidy. Food was expensive in the park not of an excellent qualify (ie served like warm or cold) and there were few vegetarian options.The castle was under renovation at the time of my visit. The park is easy to walk around and many of the attractions are great for kids. Lines were virtually non existent with our longest wait 20 minutesOverall worth a visit if you are with the kids in Hong Kong and have the time. The park entry is also comparatively inexpensive when compared to other Disneyland parks.",
         "Disneyland_HongKong"
        ],
        [
         "27",
         "669403596",
         "5",
         "2018-12-01 00:00:00",
         "Philippines",
         "We have been to Hong Kong Disneyland a few times already but we still want to come back. Why? Because there are rides we were too chicken to try the first visits that we finally had the courage to try and we ended up loving them. We love the Big Grizzly Mountain ride. We thought it will be too scary but we love it now. Will be back again!",
         "Disneyland_HongKong"
        ],
        [
         "28",
         "669353396",
         "5",
         "2019-04-01 00:00:00",
         "United Kingdom",
         "We visited here on a Wednesday. We arrived for opening and found the queue times to be short and had done most the rides we wanted to by early afternoon. Unfortunately there were no fireworks due to the castle being renovated and we have seen many parades at Disney world so we decided not to stay for the evening. ",
         "Disneyland_HongKong"
        ],
        [
         "29",
         "669186152",
         "3",
         "2019-04-01 00:00:00",
         "Australia",
         "I need to say I have been to    home of Disney    Disneyland Anaheim. HK Disney is about an 8th of that park!    Biggest ride    (as in scary) was Space Mountain. Mostly kiddy rides other than that. We did really enjoy the Lion King show. I can   t get over how expensive it was. Water equates to $6 AUD a small bottle and a burger combo meal equated $22 AUD!!!! We also stayed at Disney Hollywood Hotel   where they have u by the balls and charge insane prices ($120 AUD) for buffet dinner or $55 AUD for breakfast. There are no shops   cafes   supermarkets nearby to grab a snack or cheap dinner, unless u take 2 trains! After travelling thru HK  China for 3 weeks it was just crazy expensive for crappy deep fried food or a flavourless bowl of lettuce salad. Very few food places open. Castle under maintenance. Train under maintenance. vouchers we got on the way in stating ALL shops on main st have 10% discount before 1030... then told at bakery    that not here   ?!!! At home that   s called false advertising?!! Toy Story land was insanely hot   no shade, sun bouncing off light concrete   my husband actually had a hypo while waiting for daughter on ride coz it   s so hot. Come on Disneyland... surely you can put up some    camo style shades    so waiting parents don   t pass out?! A few seats for elderly wouldn   t go astray either. All up pretty disappointing experience and about $900 AUD poorer, for 2 adults & 1 child for 2 day pass (note: u won   t need to go back for a second day). ",
         "Disneyland_HongKong"
        ],
        [
         "30",
         "669093045",
         "5",
         "2019-04-01 00:00:00",
         "Australia",
         "Took a five year old and a two year old. Could not fault anything other than a hire pram being pinched, which was quickly replaced.  Staff amazing. If you can stay at one of the hotels, do so.  Makes it all much easier.",
         "Disneyland_HongKong"
        ],
        [
         "31",
         "669050447",
         "4",
         "2019-04-01 00:00:00",
         "Australia",
         "A great day out even for adults.We can early and we're able to do almost all rides in a couple of hours. The restaurants were great and a good selection of different foods. Try the caramel popcorn! Unfortunately, when we went the bars and 1 restaurant was closed, but still other options available.The rides are mostly for little kids bit a couple were good for adults. The shopping was the highlight of the day with huge selection of Disney gifts and clothing. Note if there is a daily special get it early as it will sell out. There is not a lot of shade so bring hats and an umbrella.",
         "Disneyland_HongKong"
        ],
        [
         "32",
         "668819140",
         "5",
         "2019-04-01 00:00:00",
         "Australia",
         "I went to Hong Kong Disneyland with a little trepidation as our family had been to Disneyland in California 6 months previously.No trepidation needed, we all loved HKDL! Loved loved loved it.Yes, its much smaller than California and there are not as many fast paced rides, none the less, we had a great day. The park is beautiful and the experience is just like being at Anaheim.We went on a day where large amounts of rain were expected, so numbers were down. We had line ups of less than 5 minutes on most rides. The rain held off until 3pm and we'd been able to go through all of the park by that time and we were going back over rides we wanted to do again. Once the rain started we found that most people huddled under their umbrellas, where as we went on all the undercover rides over and over.I totally recommend HKDL, just keep in mind it is smaller and slower paced than other Disney parks.",
         "Disneyland_HongKong"
        ],
        [
         "33",
         "668798543",
         "5",
         "2019-04-01 00:00:00",
         "China",
         "This Disneyland is a lot of fun. There are many rides that are good like the Iron man experience, hyperspace mountain, the toy story car, and many others. I went to Shanghai Disneyland as well and that one is so crowded you can   t go on a lot of rides but in Hong Kong we were able to ride almost every ride in a day. Lines were very short and the park is small so it   s easy to get around. ",
         "Disneyland_HongKong"
        ],
        [
         "34",
         "668777351",
         "4",
         "2018-12-01 00:00:00",
         "Australia",
         "We have been to Disneyland in LA two times, and Tokyo Disneyland Disney Sea. Walking through the gates at HK Disneyland felt like going back to LA. This is because the park is owned by Disney and HK Government. We loved the quietness of HK Disneyland in the morning, most things in HK don't open until 10am, so to walk in with very few people in front of us was great. Toy Storyland doesn't open until 11am. We purchased our tickets online from Australia and printed them before we left. You are sent an email with a link to an electronic version with QR codes and personalised characters, but we used the printed version much easier and the website can be a little slow. We also purchased the Dining Vouchers as well, this entitled us to Lunch or Dinner a popcorn or a iceblock. If you are there for two days, like we were then just double the number of vouchers you purchase. HK Disneyland uses the old style Fast pass system, scan your ticket and get a printed fastpass. We were staying at Disney Explorers Lodge and received fast passes to certain rides from there as well. The food in HK Disneyland is aimed at the Asian Market, although there are restaurants who serve burgers etc. If you have fussy eaters then beware you may have limited choices, but over all the food was Disney quality. We ate at the Starliner Restaurant at Tomorrowland.We loved Space Mountain with the Star Wars overlay, sooo coool. The is no Pirates of the Caribbean ride, sad, but the Lion King show and Mickey's PhilharMagic shows are great fun.Unique to the HK Disneyland is Mystic Manor, an amazing trackless ride so fun we went on it three times, the Big Grizzly Mountain Runaway Mine Cars is great fun, the experience varies depending on where you are sitting, we had front row, amazing, and last row, still fun but a little rough. Also unique to HK Disneyland is the Iron Man Experience, a ride simulator on a Stark Industries flyer through Hong Kong. Lots of fun.When you ride the Jungle Cruise remember to choose the English line or Cantonese line as the skippers script is done in both. They say there is no difference in the line waiting time, we didn't really notice it.Yes HKL Disneyland is smaller than LA Disneyland  Tokyo Disneyland but two days allows you to see pretty much everything and not a break net speed. We are a Disney loving family and our girls were aged 17, 15, and 10 when we attended the park. The Christmas decorations and the parade were great.HK Disneyland is on the MTR line just change at Sunny Bay Station for the Disneyland line. You can use your Octopus Card to travel on the MTR. There are shuttle buses that run from the Disney Hotels to the transport hub at Disneyland and you can walk if you want to along the bay from the hotels. It would be roughly 20 minutes walk from the Disneyland Hotel along the bay. There is also a ferry that runs from Central to HK Disneyland but the MTR train is the best option in my opinion, especially as it has Mickey Shaped Windows and Disney theming inside the train carriages.",
         "Disneyland_HongKong"
        ],
        [
         "35",
         "668611003",
         "4",
         "2019-04-01 00:00:00",
         "Australia",
         "Australian family of four with 2 kids (12 and 9) enjoyed a full day out at Hong Kong Disneyland with plenty to do and see.If you have been to other Disney's and get a chance to visit Hong Kong   I say definitely do it. There are a couple of unique Hong Kong experiences including two Marvel attractions   Antman and Ironman   both which we enjoyed.For thrill seekers there are a couple of great rides   The Big Grizzly Mountain was probably our favourite   it was unexpected and fast. And the RC Racer in Toystoryland definitely worth the wait.For families with younger kids there is heaps here to do   we kind of skipped fantasyland   but for young families you would probably spend a lot of the day here.The park is easy to get to as well   the dedicated Disney train line was fun to ride on   and with an easily navigable MTR in Hong Kong it was simple and cheap to get to the Park.",
         "Disneyland_HongKong"
        ],
        [
         "36",
         "668374644",
         "4",
         "2019-04-01 00:00:00",
         "United Kingdom",
         "If your are travelling to Disney land from mong cok you can purchase your tickets from one of the travel shops at a discounted rate (we purchased ours from Hong Thai travel) this is in the bank centre on Nathan road, right next to the Mong Kok station.   if you go to level 4 there are numerous travel shops (including CTS) which from other reviews that I read is where most people purchased the tickets. We asked around the shops on level 4 for the price of their Disneyland ticket (including CTS) and we found Hong Thai travel the cheapest. The tickets were $557HKD each for adults. I would recommend asking around each shop for their price on the day. They seem to all open at 10am. The sales advisor will hand you a letter which you then take to the box office at Disney land and swap for entry tickets   it was very easy and we had no problems. Hong Thai travel Bank centre Nathan roadAs the park opened at 10.30am we decided to get a taxi on the way there, this costs roughly $200HKD from Mong Kok and takes around 20 minutes.On the way back we used the trains, the route is:Disney land to Sunny Bay (pink line)Sunny Bay to Lai King Station (orange line)Lai King Station to Mong Kok (red line)The trains costs are around $20HKD and takes roughly 1 hour.  if you want to catch the train to Disneyland from Mong Kok the route is;Mong Kok to Lai King Station (red line)Lai King Station to Sunny Bay Station (orange line)Sunny Bay Station to Disneyland (pink line)",
         "Disneyland_HongKong"
        ],
        [
         "37",
         "668242919",
         "4",
         "2019-04-01 00:00:00",
         "Australia",
         "Hong Kong is easy to get to via the MTR from Kowloon, great signage and fast. Our day started well but just after arriving it started to rain quite heavily and didn't stop until mid afternoon. Characters were out in the main street but only saw two during the day, probably due to the rain. Even though the crowds on entry were big once inside it didn't seem crowded at all, Toy Story Land was a ghost town with no one going on the rides in the rain. We enjoy the rides that were open and all in all had a good day. Had heard great things about Mystic Manor but found it just okay, loved Hyperspace Mountain, Ant Man and Ironman. Big Grizzly Mountain Runaway Mine cars were my favorite of the day! Though shopping wasn't as good as Disneyland in the USA which was disappointing, catering mainly to children. Happy to have visited but don't think I'd go to Hong Kong again.",
         "Disneyland_HongKong"
        ],
        [
         "38",
         "668209978",
         "5",
         "2018-09-01 00:00:00",
         "Australia",
         "You have to visit to understand the memorable experience. It is a place that brings out the child in everyone. You have to stay for the fireworks. Food is expensive so take snacks along.",
         "Disneyland_HongKong"
        ],
        [
         "39",
         "668111738",
         "5",
         "2018-06-01 00:00:00",
         "Hong Kong",
         "HKDL got different event for different period. Like Jan Feb for Chines New Year, Apr May for Spring Carnival, then Summer, Halloween and Christmas, each event got different theme for both charaters costume and decorate, and sometimes might got the special daily parade too. Thats why recommend to check clearly which event you want to join before you make the disney trip. If you don't like crowded, Mar & November without any event happening will be your choice!",
         "Disneyland_HongKong"
        ],
        [
         "40",
         "667962395",
         "3",
         "2019-04-01 00:00:00",
         "United States",
         "The park is great if this is the only amusement park available to you. It is small and the rides are very tame. The park can be done in 3 4 of a day. Disney is always clean and has the best customer service.",
         "Disneyland_HongKong"
        ],
        [
         "41",
         "667949538",
         "5",
         "2019-04-01 00:00:00",
         "Australia",
         "Visited here with the family and had a very memorable experience. It didn   t seem as big as Anaheim, but very clean and well maintained.  Received priority queuing passes but didn   t need them as the lines were very short.",
         "Disneyland_HongKong"
        ],
        [
         "42",
         "667897767",
         "4",
         "2019-03-01 00:00:00",
         "Philippines",
         "It's always going to be fun at Disneyland. These are a few of my reminders: don't bring selfie sticks and huge tripods you can bring bottled water or if you have a reusable container, use that instead food can be expensive so eat plenty before going here. Just don't ride the rollercoasters right away. don't miss the Festival of the Lion King Show. You can forget the Moana production though if you're expecting the songs from the movie and to see Maui wear comfortable shoes. there will be lots of walking have fun and don't get discouraged by long queues. you'll have your turn sooner than you think.",
         "Disneyland_HongKong"
        ],
        [
         "43",
         "667633252",
         "4",
         "2019-02-01 00:00:00",
         "United States",
         "To be honest it rained nearly all day, if the weather was better i'm sure my overall impression would have been much better. It lacks the thrill seeking rides of other disney parks. That being said it also lacked the ridiculously long quees. Waits were around 5 minutes! ",
         "Disneyland_HongKong"
        ],
        [
         "44",
         "667600609",
         "4",
         "2018-10-01 00:00:00",
         "United Kingdom",
         "A super small but cute Disney park   if you're a Disney fan you tick this park off in a day though, be warned, if you're used to the service in Walt Disney World and Disneyland, it doesn't seem to  translate  as well at Hong Kong Disneyland. The food is also not as good   we had lunch from the Lucky Nugget Saloon, which was mediocre at best.A fun day though, regardless.",
         "Disneyland_HongKong"
        ],
        [
         "45",
         "667509247",
         "4",
         "2019-04-01 00:00:00",
         "United States",
         "Plaza Inn was fantastic, and the kids in our group loved the rides. It   s smaller than Disneyland, but if you love Disney, it   s worth the visit. If you   re not super into Disney, I   d probably skip and just go to Disneyland in Anaheim.",
         "Disneyland_HongKong"
        ],
        [
         "46",
         "667288224",
         "5",
         "2019-03-01 00:00:00",
         "Australia",
         "We first did Disneyworld in Orlando some 40 yrs ago with our 2 year old.Back then, we had to buy different value tickets for various rides whereas that has changed and the entry fee now covers all rides etc, except for food. What hasn   t changed. The place is remarkably clean and well maintained given the number of visitors they see each day. Some rides had a long wait ie 40 minutes, so skipped them till later in the day ie 4 5pm, and the wait period was down to less than 10minutes.A very full day. We got there around 10.30 am and left when the street parade finished at around 9.15pm. Exhausting, but simply loved it ",
         "Disneyland_HongKong"
        ],
        [
         "47",
         "667095433",
         "5",
         "2019-04-01 00:00:00",
         "United Kingdom",
         "Had a great time at Disneyland. Great, but can be busy on Saturday and Sunday. Only point to note, is that the park opens at 10:00 but the first zone does not open until 10:30. I purchased priority tickets, if going at the weekend I would recommend priority tickets. Queues smaller during the week and not sure if priority needed.",
         "Disneyland_HongKong"
        ],
        [
         "48",
         "667093819",
         "4",
         "2019-04-01 00:00:00",
         "Australia",
         "We had a terrific time at Disneyland HongKong   rides were fun, waiting times ok, shows were enjoyable, very clean, staff super friendly   only let down was average food but to be expected.",
         "Disneyland_HongKong"
        ],
        [
         "49",
         "667079818",
         "5",
         "2019-04-01 00:00:00",
         "Australia",
         "Even though the rain set in for most of the day, as an adult we still had a fun time at Disneyland Hong Kong",
         "Disneyland_HongKong"
        ]
       ],
       "shape": {
        "columns": 6,
        "rows": 42656
       }
      },
      "text/html": [
       "<div>\n",
       "<style scoped>\n",
       "    .dataframe tbody tr th:only-of-type {\n",
       "        vertical-align: middle;\n",
       "    }\n",
       "\n",
       "    .dataframe tbody tr th {\n",
       "        vertical-align: top;\n",
       "    }\n",
       "\n",
       "    .dataframe thead th {\n",
       "        text-align: right;\n",
       "    }\n",
       "</style>\n",
       "<table border=\"1\" class=\"dataframe\">\n",
       "  <thead>\n",
       "    <tr style=\"text-align: right;\">\n",
       "      <th></th>\n",
       "      <th>Review_ID</th>\n",
       "      <th>Rating</th>\n",
       "      <th>Year_Month</th>\n",
       "      <th>Location</th>\n",
       "      <th>Review_Text</th>\n",
       "      <th>Branch</th>\n",
       "    </tr>\n",
       "  </thead>\n",
       "  <tbody>\n",
       "    <tr>\n",
       "      <th>0</th>\n",
       "      <td>670772142</td>\n",
       "      <td>4</td>\n",
       "      <td>2019-04-01</td>\n",
       "      <td>Australia</td>\n",
       "      <td>If you've ever been to Disneyland anywhere you...</td>\n",
       "      <td>Disneyland_HongKong</td>\n",
       "    </tr>\n",
       "    <tr>\n",
       "      <th>1</th>\n",
       "      <td>670682799</td>\n",
       "      <td>4</td>\n",
       "      <td>2019-05-01</td>\n",
       "      <td>Philippines</td>\n",
       "      <td>Its been a while since d last time we visit HK...</td>\n",
       "      <td>Disneyland_HongKong</td>\n",
       "    </tr>\n",
       "    <tr>\n",
       "      <th>2</th>\n",
       "      <td>670623270</td>\n",
       "      <td>4</td>\n",
       "      <td>2019-04-01</td>\n",
       "      <td>United Arab Emirates</td>\n",
       "      <td>Thanks God it wasn   t too hot or too humid wh...</td>\n",
       "      <td>Disneyland_HongKong</td>\n",
       "    </tr>\n",
       "    <tr>\n",
       "      <th>3</th>\n",
       "      <td>670607911</td>\n",
       "      <td>4</td>\n",
       "      <td>2019-04-01</td>\n",
       "      <td>Australia</td>\n",
       "      <td>HK Disneyland is a great compact park. Unfortu...</td>\n",
       "      <td>Disneyland_HongKong</td>\n",
       "    </tr>\n",
       "    <tr>\n",
       "      <th>4</th>\n",
       "      <td>670607296</td>\n",
       "      <td>4</td>\n",
       "      <td>2019-04-01</td>\n",
       "      <td>United Kingdom</td>\n",
       "      <td>the location is not in the city, took around 1...</td>\n",
       "      <td>Disneyland_HongKong</td>\n",
       "    </tr>\n",
       "    <tr>\n",
       "      <th>...</th>\n",
       "      <td>...</td>\n",
       "      <td>...</td>\n",
       "      <td>...</td>\n",
       "      <td>...</td>\n",
       "      <td>...</td>\n",
       "      <td>...</td>\n",
       "    </tr>\n",
       "    <tr>\n",
       "      <th>42651</th>\n",
       "      <td>1765031</td>\n",
       "      <td>5</td>\n",
       "      <td>NaT</td>\n",
       "      <td>United Kingdom</td>\n",
       "      <td>i went to disneyland paris in july 03 and thou...</td>\n",
       "      <td>Disneyland_Paris</td>\n",
       "    </tr>\n",
       "    <tr>\n",
       "      <th>42652</th>\n",
       "      <td>1659553</td>\n",
       "      <td>5</td>\n",
       "      <td>NaT</td>\n",
       "      <td>Canada</td>\n",
       "      <td>2 adults and 1 child of 11 visited Disneyland ...</td>\n",
       "      <td>Disneyland_Paris</td>\n",
       "    </tr>\n",
       "    <tr>\n",
       "      <th>42653</th>\n",
       "      <td>1645894</td>\n",
       "      <td>5</td>\n",
       "      <td>NaT</td>\n",
       "      <td>South Africa</td>\n",
       "      <td>My eleven year old daughter and myself went to...</td>\n",
       "      <td>Disneyland_Paris</td>\n",
       "    </tr>\n",
       "    <tr>\n",
       "      <th>42654</th>\n",
       "      <td>1618637</td>\n",
       "      <td>4</td>\n",
       "      <td>NaT</td>\n",
       "      <td>United States</td>\n",
       "      <td>This hotel, part of the Disneyland Paris compl...</td>\n",
       "      <td>Disneyland_Paris</td>\n",
       "    </tr>\n",
       "    <tr>\n",
       "      <th>42655</th>\n",
       "      <td>1536786</td>\n",
       "      <td>4</td>\n",
       "      <td>NaT</td>\n",
       "      <td>United Kingdom</td>\n",
       "      <td>I went to the Disneyparis resort, in 1996, wit...</td>\n",
       "      <td>Disneyland_Paris</td>\n",
       "    </tr>\n",
       "  </tbody>\n",
       "</table>\n",
       "<p>42656 rows × 6 columns</p>\n",
       "</div>"
      ],
      "text/plain": [
       "       Review_ID  Rating Year_Month              Location  \\\n",
       "0      670772142       4 2019-04-01             Australia   \n",
       "1      670682799       4 2019-05-01           Philippines   \n",
       "2      670623270       4 2019-04-01  United Arab Emirates   \n",
       "3      670607911       4 2019-04-01             Australia   \n",
       "4      670607296       4 2019-04-01        United Kingdom   \n",
       "...          ...     ...        ...                   ...   \n",
       "42651    1765031       5        NaT        United Kingdom   \n",
       "42652    1659553       5        NaT                Canada   \n",
       "42653    1645894       5        NaT          South Africa   \n",
       "42654    1618637       4        NaT         United States   \n",
       "42655    1536786       4        NaT        United Kingdom   \n",
       "\n",
       "                                             Review_Text               Branch  \n",
       "0      If you've ever been to Disneyland anywhere you...  Disneyland_HongKong  \n",
       "1      Its been a while since d last time we visit HK...  Disneyland_HongKong  \n",
       "2      Thanks God it wasn   t too hot or too humid wh...  Disneyland_HongKong  \n",
       "3      HK Disneyland is a great compact park. Unfortu...  Disneyland_HongKong  \n",
       "4      the location is not in the city, took around 1...  Disneyland_HongKong  \n",
       "...                                                  ...                  ...  \n",
       "42651  i went to disneyland paris in july 03 and thou...     Disneyland_Paris  \n",
       "42652  2 adults and 1 child of 11 visited Disneyland ...     Disneyland_Paris  \n",
       "42653  My eleven year old daughter and myself went to...     Disneyland_Paris  \n",
       "42654  This hotel, part of the Disneyland Paris compl...     Disneyland_Paris  \n",
       "42655  I went to the Disneyparis resort, in 1996, wit...     Disneyland_Paris  \n",
       "\n",
       "[42656 rows x 6 columns]"
      ]
     },
     "execution_count": 4,
     "metadata": {},
     "output_type": "execute_result"
    }
   ],
   "source": [
    "df['Branch'] = df['Branch'].astype('category')\n",
    "df[\"Year_Month\"] = pd.to_datetime(df[\"Year_Month\"], format=\"%Y-%m\", errors = \"coerce\")\n",
    "df[\"Reviewer_Location\"] = df[\"Reviewer_Location\"].astype('category')\n",
    "df = df.rename(columns={\n",
    "    \"Reviewer_Location\" : \"Location\"\n",
    "})\n",
    "df"
   ]
  },
  {
   "cell_type": "code",
   "execution_count": 15,
   "metadata": {},
   "outputs": [
    {
     "name": "stdout",
     "output_type": "stream",
     "text": [
      "Singapore reviews: 1037 out of 42656 (2.43%)\n"
     ]
    },
    {
     "name": "stderr",
     "output_type": "stream",
     "text": [
      "/var/folders/4k/8zjs5w191wn6mjqcxkws37dw0000gn/T/ipykernel_81595/2875215470.py:1: FutureWarning: The default of observed=False is deprecated and will be changed to True in a future version of pandas. Pass observed=False to retain current behavior or observed=True to adopt the future default and silence this warning.\n",
      "  location = df.groupby(\"Location\").count().sort_values(by=\"Review_ID\", ascending=False)\n",
      "/var/folders/4k/8zjs5w191wn6mjqcxkws37dw0000gn/T/ipykernel_81595/2875215470.py:13: SettingWithCopyWarning: \n",
      "A value is trying to be set on a copy of a slice from a DataFrame.\n",
      "Try using .loc[row_indexer,col_indexer] = value instead\n",
      "\n",
      "See the caveats in the documentation: https://pandas.pydata.org/pandas-docs/stable/user_guide/indexing.html#returning-a-view-versus-a-copy\n",
      "  top10_locations['Percentage'] = (top10_locations['Review_ID'] / total_reviews) * 100\n"
     ]
    },
    {
     "data": {
      "application/vnd.microsoft.datawrangler.viewer.v0+json": {
       "columns": [
        {
         "name": "Location",
         "rawType": "category",
         "type": "unknown"
        },
        {
         "name": "Review_ID",
         "rawType": "int64",
         "type": "integer"
        },
        {
         "name": "Rating",
         "rawType": "int64",
         "type": "integer"
        },
        {
         "name": "Year_Month",
         "rawType": "int64",
         "type": "integer"
        },
        {
         "name": "Review_Text",
         "rawType": "int64",
         "type": "integer"
        },
        {
         "name": "Branch",
         "rawType": "int64",
         "type": "integer"
        },
        {
         "name": "Percentage",
         "rawType": "float64",
         "type": "float"
        }
       ],
       "conversionMethod": "pd.DataFrame",
       "ref": "a794acf6-31f4-409b-96b3-b1a30266d8bc",
       "rows": [
        [
         "United States",
         "14551",
         "14551",
         "13522",
         "14551",
         "14551",
         "34.11243435858965"
        ],
        [
         "United Kingdom",
         "9751",
         "9751",
         "9115",
         "9751",
         "9751",
         "22.859621155288824"
        ],
        [
         "Australia",
         "4679",
         "4679",
         "4412",
         "4679",
         "4679",
         "10.969148537134284"
        ],
        [
         "Canada",
         "2235",
         "2235",
         "2116",
         "2235",
         "2235",
         "5.239591147786947"
        ],
        [
         "India",
         "1511",
         "1511",
         "1470",
         "1511",
         "1511",
         "3.542291822955739"
        ],
        [
         "Philippines",
         "1070",
         "1070",
         "1024",
         "1070",
         "1070",
         "2.5084396099024757"
        ],
        [
         "Singapore",
         "1037",
         "1037",
         "971",
         "1037",
         "1037",
         "2.4310765191297823"
        ],
        [
         "New Zealand",
         "756",
         "756",
         "714",
         "756",
         "756",
         "1.77231807951988"
        ],
        [
         "Malaysia",
         "588",
         "588",
         "562",
         "588",
         "588",
         "1.3784696174043511"
        ],
        [
         "Hong Kong",
         "554",
         "554",
         "515",
         "554",
         "554",
         "1.298762190547637"
        ]
       ],
       "shape": {
        "columns": 6,
        "rows": 10
       }
      },
      "text/html": [
       "<div>\n",
       "<style scoped>\n",
       "    .dataframe tbody tr th:only-of-type {\n",
       "        vertical-align: middle;\n",
       "    }\n",
       "\n",
       "    .dataframe tbody tr th {\n",
       "        vertical-align: top;\n",
       "    }\n",
       "\n",
       "    .dataframe thead th {\n",
       "        text-align: right;\n",
       "    }\n",
       "</style>\n",
       "<table border=\"1\" class=\"dataframe\">\n",
       "  <thead>\n",
       "    <tr style=\"text-align: right;\">\n",
       "      <th></th>\n",
       "      <th>Review_ID</th>\n",
       "      <th>Rating</th>\n",
       "      <th>Year_Month</th>\n",
       "      <th>Review_Text</th>\n",
       "      <th>Branch</th>\n",
       "      <th>Percentage</th>\n",
       "    </tr>\n",
       "    <tr>\n",
       "      <th>Location</th>\n",
       "      <th></th>\n",
       "      <th></th>\n",
       "      <th></th>\n",
       "      <th></th>\n",
       "      <th></th>\n",
       "      <th></th>\n",
       "    </tr>\n",
       "  </thead>\n",
       "  <tbody>\n",
       "    <tr>\n",
       "      <th>United States</th>\n",
       "      <td>14551</td>\n",
       "      <td>14551</td>\n",
       "      <td>13522</td>\n",
       "      <td>14551</td>\n",
       "      <td>14551</td>\n",
       "      <td>34.112434</td>\n",
       "    </tr>\n",
       "    <tr>\n",
       "      <th>United Kingdom</th>\n",
       "      <td>9751</td>\n",
       "      <td>9751</td>\n",
       "      <td>9115</td>\n",
       "      <td>9751</td>\n",
       "      <td>9751</td>\n",
       "      <td>22.859621</td>\n",
       "    </tr>\n",
       "    <tr>\n",
       "      <th>Australia</th>\n",
       "      <td>4679</td>\n",
       "      <td>4679</td>\n",
       "      <td>4412</td>\n",
       "      <td>4679</td>\n",
       "      <td>4679</td>\n",
       "      <td>10.969149</td>\n",
       "    </tr>\n",
       "    <tr>\n",
       "      <th>Canada</th>\n",
       "      <td>2235</td>\n",
       "      <td>2235</td>\n",
       "      <td>2116</td>\n",
       "      <td>2235</td>\n",
       "      <td>2235</td>\n",
       "      <td>5.239591</td>\n",
       "    </tr>\n",
       "    <tr>\n",
       "      <th>India</th>\n",
       "      <td>1511</td>\n",
       "      <td>1511</td>\n",
       "      <td>1470</td>\n",
       "      <td>1511</td>\n",
       "      <td>1511</td>\n",
       "      <td>3.542292</td>\n",
       "    </tr>\n",
       "    <tr>\n",
       "      <th>Philippines</th>\n",
       "      <td>1070</td>\n",
       "      <td>1070</td>\n",
       "      <td>1024</td>\n",
       "      <td>1070</td>\n",
       "      <td>1070</td>\n",
       "      <td>2.508440</td>\n",
       "    </tr>\n",
       "    <tr>\n",
       "      <th>Singapore</th>\n",
       "      <td>1037</td>\n",
       "      <td>1037</td>\n",
       "      <td>971</td>\n",
       "      <td>1037</td>\n",
       "      <td>1037</td>\n",
       "      <td>2.431077</td>\n",
       "    </tr>\n",
       "    <tr>\n",
       "      <th>New Zealand</th>\n",
       "      <td>756</td>\n",
       "      <td>756</td>\n",
       "      <td>714</td>\n",
       "      <td>756</td>\n",
       "      <td>756</td>\n",
       "      <td>1.772318</td>\n",
       "    </tr>\n",
       "    <tr>\n",
       "      <th>Malaysia</th>\n",
       "      <td>588</td>\n",
       "      <td>588</td>\n",
       "      <td>562</td>\n",
       "      <td>588</td>\n",
       "      <td>588</td>\n",
       "      <td>1.378470</td>\n",
       "    </tr>\n",
       "    <tr>\n",
       "      <th>Hong Kong</th>\n",
       "      <td>554</td>\n",
       "      <td>554</td>\n",
       "      <td>515</td>\n",
       "      <td>554</td>\n",
       "      <td>554</td>\n",
       "      <td>1.298762</td>\n",
       "    </tr>\n",
       "  </tbody>\n",
       "</table>\n",
       "</div>"
      ],
      "text/plain": [
       "                Review_ID  Rating  Year_Month  Review_Text  Branch  Percentage\n",
       "Location                                                                      \n",
       "United States       14551   14551       13522        14551   14551   34.112434\n",
       "United Kingdom       9751    9751        9115         9751    9751   22.859621\n",
       "Australia            4679    4679        4412         4679    4679   10.969149\n",
       "Canada               2235    2235        2116         2235    2235    5.239591\n",
       "India                1511    1511        1470         1511    1511    3.542292\n",
       "Philippines          1070    1070        1024         1070    1070    2.508440\n",
       "Singapore            1037    1037         971         1037    1037    2.431077\n",
       "New Zealand           756     756         714          756     756    1.772318\n",
       "Malaysia              588     588         562          588     588    1.378470\n",
       "Hong Kong             554     554         515          554     554    1.298762"
      ]
     },
     "execution_count": 15,
     "metadata": {},
     "output_type": "execute_result"
    }
   ],
   "source": [
    "location = df.groupby(\"Location\").count().sort_values(by=\"Review_ID\", ascending=False)\n",
    "sg_percentage = location.count()/df[df.Location == \"Singapore\"].count()*100\n",
    "sg_percentage.Review_Text\n",
    "# Find total Singapore reviews\n",
    "sg_reviews = df[df.Location == \"Singapore\"].shape[0]\n",
    "total_reviews = df.shape[0]\n",
    "sg_percentage = (sg_reviews / total_reviews) * 100\n",
    "\n",
    "print(f\"Singapore reviews: {sg_reviews} out of {total_reviews} ({sg_percentage:.2f}%)\")\n",
    "# Get top 10 locations by review count\n",
    "\n",
    "top10_locations = location.head(10)\n",
    "top10_locations['Percentage'] = (top10_locations['Review_ID'] / total_reviews) * 100\n",
    "top10_locations\n"
   ]
  },
  {
   "cell_type": "markdown",
   "metadata": {},
   "source": [
    "Singapore reviews: 1037 out of 42656 (2.43%) - country with the 7th highest number of reviews."
   ]
  },
  {
   "cell_type": "code",
   "execution_count": null,
   "metadata": {},
   "outputs": [
    {
     "name": "stderr",
     "output_type": "stream",
     "text": [
      "/var/folders/4k/8zjs5w191wn6mjqcxkws37dw0000gn/T/ipykernel_81595/2165113529.py:2: FutureWarning: The default of observed=False is deprecated and will be changed to True in a future version of pandas. Pass observed=False to retain current behavior or observed=True to adopt the future default and silence this warning.\n",
      "  branch_ratings = df.groupby('Branch')['Rating'].agg(['mean', 'count', 'std'])\n"
     ]
    },
    {
     "name": "stdout",
     "output_type": "stream",
     "text": [
      "Average Ratings by Branch:\n",
      "                  Branch      mean  count       std\n",
      "0  Disneyland_California  4.405339  19406  0.975600\n",
      "1    Disneyland_HongKong  4.204158   9620  0.932989\n",
      "2       Disneyland_Paris  3.960088  13630  1.205324\n"
     ]
    },
    {
     "name": "stderr",
     "output_type": "stream",
     "text": [
      "/var/folders/4k/8zjs5w191wn6mjqcxkws37dw0000gn/T/ipykernel_81595/2165113529.py:13: FutureWarning: \n",
      "\n",
      "Passing `palette` without assigning `hue` is deprecated and will be removed in v0.14.0. Assign the `x` variable to `hue` and set `legend=False` for the same effect.\n",
      "\n",
      "  ax = sb.barplot(x='Branch', y='mean', data=branch_ratings, palette='viridis')\n"
     ]
    },
    {
     "data": {
      "image/png": "[encoded data removed]",
      "text/plain": [
       "<Figure size 1000x600 with 1 Axes>"
      ]
     },
     "metadata": {},
     "output_type": "display_data"
    },
    {
     "name": "stderr",
     "output_type": "stream",
     "text": [
      "/var/folders/4k/8zjs5w191wn6mjqcxkws37dw0000gn/T/ipykernel_81595/2165113529.py:28: FutureWarning: \n",
      "\n",
      "Passing `palette` without assigning `hue` is deprecated and will be removed in v0.14.0. Assign the `x` variable to `hue` and set `legend=False` for the same effect.\n",
      "\n",
      "  sb.boxplot(x='Branch', y='Rating', data=df, palette='viridis')\n"
     ]
    },
    {
     "data": {
      "image/png": "[encoded data removed]",
      "text/plain": [
       "<Figure size 1200x600 with 1 Axes>"
      ]
     },
     "metadata": {},
     "output_type": "display_data"
    }
   ],
   "source": [
    "# ratings distribution\n",
    "branch_ratings = df.groupby('Branch')['Rating'].agg(['mean', 'count', 'std'])\n",
    "branch_ratings = branch_ratings.sort_values(by='mean', ascending=False)\n",
    "branch_ratings = branch_ratings.reset_index()\n",
    "\n",
    "print(\"Average Ratings by Branch:\")\n",
    "print(branch_ratings)\n",
    "\n",
    "# ratings by branch\n",
    "import matplotlib.pyplot as plt\n",
    "\n",
    "plt.figure(figsize=(10, 6))\n",
    "ax = sb.barplot(x='Branch', y='mean', data=branch_ratings, palette='viridis')\n",
    "plt.title('Average Rating by Disney Park')\n",
    "plt.ylabel('Average Rating')\n",
    "plt.xlabel('Disney Park')\n",
    "plt.xticks(rotation=45)\n",
    "\n",
    "for i, row in enumerate(branch_ratings.itertuples()):\n",
    "    ax.text(i, row.mean + 0.05, f'n={row.count}', ha='center', fontweight='bold')\n",
    "\n",
    "plt.tight_layout()\n",
    "plt.show()\n",
    "\n",
    "# rating distribution\n",
    "plt.figure(figsize=(12, 6))\n",
    "sb.boxplot(x='Branch', y='Rating', data=df, palette='viridis')\n",
    "plt.title('Rating Distribution by Disney Park')\n",
    "plt.xticks(rotation=45)\n",
    "plt.tight_layout()\n",
    "plt.show()"
   ]
  },
  {
   "cell_type": "code",
   "execution_count": 17,
   "metadata": {
    "vscode": {
     "languageId": "ruby"
    }
   },
   "outputs": [
    {
     "name": "stderr",
     "output_type": "stream",
     "text": [
      "/var/folders/4k/8zjs5w191wn6mjqcxkws37dw0000gn/T/ipykernel_81595/1794418310.py:5: FutureWarning: The default of observed=False is deprecated and will be changed to True in a future version of pandas. Pass observed=False to retain current behavior or observed=True to adopt the future default and silence this warning.\n",
      "  branch_word_counts = df.groupby('Branch')['word_count'].agg(['mean', 'median', 'min', 'max', 'count'])\n",
      "/var/folders/4k/8zjs5w191wn6mjqcxkws37dw0000gn/T/ipykernel_81595/1794418310.py:18: FutureWarning: \n",
      "\n",
      "Passing `palette` without assigning `hue` is deprecated and will be removed in v0.14.0. Assign the `x` variable to `hue` and set `legend=False` for the same effect.\n",
      "\n",
      "  sb.boxplot(x='Branch', y='word_count', data=df, palette='viridis')\n"
     ]
    },
    {
     "name": "stdout",
     "output_type": "stream",
     "text": [
      "Average Word Count per Review by Branch:\n",
      "                             mean  median  min   max  count\n",
      "Branch                                                     \n",
      "Disneyland_Paris       169.369773   112.0    3  3963  13630\n",
      "Disneyland_California  115.449036    71.0    7  3527  19406\n",
      "Disneyland_HongKong    102.259044    70.0    6  1591   9620\n",
      "\n",
      "Overall average word count across all reviews: 129.70 words\n"
     ]
    },
    {
     "data": {
      "image/png": "[encoded data removed]",
      "text/plain": [
       "<Figure size 1200x600 with 1 Axes>"
      ]
     },
     "metadata": {},
     "output_type": "display_data"
    },
    {
     "name": "stderr",
     "output_type": "stream",
     "text": [
      "/var/folders/4k/8zjs5w191wn6mjqcxkws37dw0000gn/T/ipykernel_81595/1794418310.py:35: UserWarning: No artists with labels found to put in legend.  Note that artists whose label start with an underscore are ignored when legend() is called with no argument.\n",
      "  plt.legend(title='Branch')\n"
     ]
    },
    {
     "data": {
      "image/png": "[encoded data removed]",
      "text/plain": [
       "<Figure size 1200x600 with 1 Axes>"
      ]
     },
     "metadata": {},
     "output_type": "display_data"
    }
   ],
   "source": [
    "# Calculate the word count for each review\n",
    "df['word_count'] = df['Review_Text'].str.split().str.len()\n",
    "\n",
    "# Calculate average word count per review for each branch\n",
    "branch_word_counts = df.groupby('Branch')['word_count'].agg(['mean', 'median', 'min', 'max', 'count'])\n",
    "branch_word_counts = branch_word_counts.sort_values(by='mean', ascending=False)\n",
    "\n",
    "# Display summary statistics\n",
    "print(\"Average Word Count per Review by Branch:\")\n",
    "print(branch_word_counts)\n",
    "\n",
    "# Overall average\n",
    "overall_avg = df['word_count'].mean()\n",
    "print(f\"\\nOverall average word count across all reviews: {overall_avg:.2f} words\")\n",
    "\n",
    "# Visualize the distribution\n",
    "plt.figure(figsize=(12, 6))\n",
    "sb.boxplot(x='Branch', y='word_count', data=df, palette='viridis')\n",
    "plt.title('Distribution of Review Word Count by Disney Park')\n",
    "plt.ylabel('Word Count')\n",
    "plt.xlabel('Disney Park')\n",
    "plt.xticks(rotation=45)\n",
    "plt.axhline(overall_avg, color='red', linestyle='--', label=f'Overall Average: {overall_avg:.2f}')\n",
    "plt.legend()\n",
    "plt.tight_layout()\n",
    "plt.show()\n",
    "\n",
    "# Word count distribution histogram\n",
    "plt.figure(figsize=(12, 6))\n",
    "sns.histplot(data=df, x='word_count', hue='Branch', bins=50, kde=True, element='step')\n",
    "plt.title('Distribution of Review Word Counts')\n",
    "plt.xlabel('Word Count')\n",
    "plt.ylabel('Frequency')\n",
    "plt.xlim(0, 500)  # Limiting x-axis to better visualize the common range\n",
    "plt.legend(title='Branch')\n",
    "plt.tight_layout()\n",
    "plt.show()"
   ]
  }
 ],
 "metadata": {
  "kernelspec": {
   "display_name": "3.12.1",
   "language": "python",
   "name": "python3"
  },
  "language_info": {
   "codemirror_mode": {
    "name": "ipython",
    "version": 3
   },
   "file_extension": ".py",
   "mimetype": "text/x-python",
   "name": "python",
   "nbconvert_exporter": "python",
   "pygments_lexer": "ipython3",
   "version": "3.12.1"
  }
 },
 "nbformat": 4,
 "nbformat_minor": 2
}
