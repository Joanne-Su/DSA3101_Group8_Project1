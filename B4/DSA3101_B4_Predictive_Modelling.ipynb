{
  "cells": [
    {
      "cell_type": "markdown",
      "metadata": {
        "id": "blHg9sXIvd0N"
      },
      "source": [
        "#Sentiment Analysis"
      ]
    },
    {
      "cell_type": "code",
      "execution_count": 2,
      "metadata": {
        "colab": {
          "base_uri": "https://localhost:8080/"
        },
        "id": "VOUp449XvfGa",
        "outputId": "43bedb23-dd27-4da5-b6a0-f9fecda5a454"
      },
      "outputs": [
        {
          "name": "stderr",
          "output_type": "stream",
          "text": [
            "[nltk_data] Downloading package vader_lexicon to\n",
            "[nltk_data]     C:\\Users\\tjiay\\AppData\\Roaming\\nltk_data...\n",
            "[nltk_data]   Package vader_lexicon is already up-to-date!\n",
            "[nltk_data] Downloading package punkt to\n",
            "[nltk_data]     C:\\Users\\tjiay\\AppData\\Roaming\\nltk_data...\n",
            "[nltk_data]   Package punkt is already up-to-date!\n",
            "[nltk_data] Downloading package punkt_tab to\n",
            "[nltk_data]     C:\\Users\\tjiay\\AppData\\Roaming\\nltk_data...\n",
            "[nltk_data]   Package punkt_tab is already up-to-date!\n",
            "[nltk_data] Downloading package wordnet to\n",
            "[nltk_data]     C:\\Users\\tjiay\\AppData\\Roaming\\nltk_data...\n",
            "[nltk_data]   Package wordnet is already up-to-date!\n",
            "[nltk_data] Downloading package omw-1.4 to\n",
            "[nltk_data]     C:\\Users\\tjiay\\AppData\\Roaming\\nltk_data...\n",
            "[nltk_data]   Package omw-1.4 is already up-to-date!\n"
          ]
        }
      ],
      "source": [
        "import pandas as pd\n",
        "from nltk.sentiment import SentimentIntensityAnalyzer\n",
        "from nltk.tokenize import sent_tokenize\n",
        "import nltk\n",
        "nltk.download(\"vader_lexicon\")\n",
        "nltk.download(\"punkt\")\n",
        "nltk.download('punkt_tab')\n",
        "nltk.download('wordnet')\n",
        "nltk.download('omw-1.4')\n",
        "from IPython.display import display, HTML"
      ]
    },
    {
      "cell_type": "code",
      "execution_count": 1,
      "metadata": {},
      "outputs": [
        {
          "name": "stdout",
          "output_type": "stream",
          "text": [
            "GPU available: True\n",
            "GPU device: NVIDIA GeForce MX450\n"
          ]
        }
      ],
      "source": [
        "import torch\n",
        "print(\"GPU available:\", torch.cuda.is_available())\n",
        "print(\"GPU device:\", torch.cuda.get_device_name(0) if torch.cuda.is_available() else \"None\")\n"
      ]
    },
    {
      "cell_type": "code",
      "execution_count": 2,
      "metadata": {
        "colab": {
          "base_uri": "https://localhost:8080/",
          "height": 224
        },
        "id": "bxQBJI0OxVHJ",
        "outputId": "69c860ae-11a1-44f7-830d-51f9ef035031"
      },
      "outputs": [
        {
          "data": {
            "text/html": [
              "<table border=\"1\" class=\"dataframe\">\n",
              "  <thead>\n",
              "    <tr style=\"text-align: right;\">\n",
              "      <th></th>\n",
              "      <th>Review_ID</th>\n",
              "      <th>Rating</th>\n",
              "      <th>Year_Month</th>\n",
              "      <th>Reviewer_Location</th>\n",
              "      <th>Review_Text</th>\n",
              "      <th>Branch</th>\n",
              "    </tr>\n",
              "  </thead>\n",
              "  <tbody>\n",
              "    <tr>\n",
              "      <th>0</th>\n",
              "      <td>670772142</td>\n",
              "      <td>4</td>\n",
              "      <td>2019-4</td>\n",
              "      <td>Australia</td>\n",
              "      <td>If you've ever been to Disneyland anywhere you'll find Disneyland Hong Kong very similar in the layout when you walk into main street! It has a very familiar feel. One of the rides  its a Small World  is absolutely fabulous and worth doing. The day we visited was fairly hot and relatively busy but the queues moved fairly well.</td>\n",
              "      <td>Disneyland_HongKong</td>\n",
              "    </tr>\n",
              "    <tr>\n",
              "      <th>1</th>\n",
              "      <td>670682799</td>\n",
              "      <td>4</td>\n",
              "      <td>2019-5</td>\n",
              "      <td>Philippines</td>\n",
              "      <td>Its been a while since d last time we visit HK Disneyland .. Yet, this time we only stay in Tomorrowland .. AKA Marvel land!Now they have Iron Man Experience n d Newly open Ant Man n d Wasp!!Ironman .. Great feature n so Exciting, especially d whole scenery of HK (HK central area to Kowloon)!Antman .. Changed by previous Buzz lightyear! More or less d same, but I'm expecting to have something most!!However, my boys like it!!Space Mountain .. Turns into Star Wars!! This 1 is Great!!!For cast members (staffs) .. Felt bit MINUS point from before!!! Just dun feel like its a Disney brand!! Seems more local like Ocean Park or even worst!!They got no SMILING face, but just wanna u to enter n attraction n leave!!Hello this is supposed to be Happiest Place on Earth brand!! But, just really Dont feel it!!Bakery in Main Street now have more attractive delicacies n Disney theme sweets .. These are Good Points!!Last, they also have Starbucks now inside the theme park!!</td>\n",
              "      <td>Disneyland_HongKong</td>\n",
              "    </tr>\n",
              "    <tr>\n",
              "      <th>2</th>\n",
              "      <td>670623270</td>\n",
              "      <td>4</td>\n",
              "      <td>2019-4</td>\n",
              "      <td>United Arab Emirates</td>\n",
              "      <td>Thanks God it wasn   t too hot or too humid when I was visiting the park   otherwise it would be a big issue (there is not a lot of shade).I have arrived around 10:30am and left at 6pm. Unfortunately I didn   t last until evening parade, but 8.5 hours was too much for me.There is plenty to do and everyone will find something interesting for themselves to enjoy.It wasn   t extremely busy and the longest time I had to queue for certain attractions was 45 minutes (which is really not that bad).Although I had an amazing time, I felt a bit underwhelmed with choice of rides and attractions. The park itself is quite small (I was really expecting something grand   even the main castle which was closed by the way was quite small).The food options are good, few coffee shops (including Starbucks) and plenty of gift shops. There was no issue with toilets as they are everywhere.All together it was a great day out and I really enjoyed it.</td>\n",
              "      <td>Disneyland_HongKong</td>\n",
              "    </tr>\n",
              "    <tr>\n",
              "      <th>3</th>\n",
              "      <td>670607911</td>\n",
              "      <td>4</td>\n",
              "      <td>2019-4</td>\n",
              "      <td>Australia</td>\n",
              "      <td>HK Disneyland is a great compact park. Unfortunately there is quite a bit of maintenance work going on at present so a number of areas are closed off (including the famous castle) If you go midweek, it is not too crowded and certainly no where near as bus as LA Disneyland. We did notice on this visit that prices for food, drinks etc have really gone through the roof so be prepared to pay top dollar for snacks (and avoid the souvenir shops if you can) Regardless, kids will love it.</td>\n",
              "      <td>Disneyland_HongKong</td>\n",
              "    </tr>\n",
              "    <tr>\n",
              "      <th>4</th>\n",
              "      <td>670607296</td>\n",
              "      <td>4</td>\n",
              "      <td>2019-4</td>\n",
              "      <td>United Kingdom</td>\n",
              "      <td>the location is not in the city, took around 1 hour from Kowlon, my kids like disneyland so much, everything is fine.   but its really crowded and hot in Hong Kong</td>\n",
              "      <td>Disneyland_HongKong</td>\n",
              "    </tr>\n",
              "    <tr>\n",
              "      <th>...</th>\n",
              "      <td>...</td>\n",
              "      <td>...</td>\n",
              "      <td>...</td>\n",
              "      <td>...</td>\n",
              "      <td>...</td>\n",
              "      <td>...</td>\n",
              "    </tr>\n",
              "    <tr>\n",
              "      <th>42651</th>\n",
              "      <td>1765031</td>\n",
              "      <td>5</td>\n",
              "      <td>missing</td>\n",
              "      <td>United Kingdom</td>\n",
              "      <td>i went to disneyland paris in july 03 and thought it was brilliant. i visited all the hotels and stayed in the newport bay and also the kyriad hotels. the newport is a really nice hotel within walking distance of the parks. very big hotel. the kyriad is further away but still a really nice hotel..i saw all rooms at all hotels and they are all pretty much the same. thought the parks were brill and as it was july didn't really have to queue that much i thought. the food was the most expensive thing there. i did the character breakfast which is a must especially if you have young kids and also did buffalo bills which is a really good night. stayed up til late in the nightclub which i didn't think was expensive at all and it was free entry as we were staying in the disney hotel.. altogether a really good 4 nts that we were there even better that it was all free!!!!!! can't wait to go back</td>\n",
              "      <td>Disneyland_Paris</td>\n",
              "    </tr>\n",
              "    <tr>\n",
              "      <th>42652</th>\n",
              "      <td>1659553</td>\n",
              "      <td>5</td>\n",
              "      <td>missing</td>\n",
              "      <td>Canada</td>\n",
              "      <td>2 adults and 1 child of 11 visited Disneyland Paris beginning of Feb 04 and had an absolute fantastic time.We went on a Thursday for 3 nights and there were no queues until the Saturday when lots more people seemed to arrive.We stayed in the Sequioa Lodge which was really nice, drinks in the hotel were pretty expensive but we were expecting that and found it cheaper to buy alcohol from the in hotel shop!!The rides were fantastic much better than i ever expected and we did the park 1 day and the studios 1 day then anything that we wanted to do again we did on the 3rd day.The parades were amazing and i would highly recommend that you try and fit time in to watch at least the fantallusion show of an evening as it's just magical.Yes i agree with some of the other reviews that things were expensive but what theme park can you go to where prices are reasonable????All in all we had an absolute magical time, but would recommend that if you want to fit everything in go mid week and try to avoid childrens holidays.</td>\n",
              "      <td>Disneyland_Paris</td>\n",
              "    </tr>\n",
              "    <tr>\n",
              "      <th>42653</th>\n",
              "      <td>1645894</td>\n",
              "      <td>5</td>\n",
              "      <td>missing</td>\n",
              "      <td>South Africa</td>\n",
              "      <td>My eleven year old daughter and myself went to visit my son in London and we decided to go on to Disneyland Paris. We stayed for two nights and three days at the Hotel Du Moulon, which was great value for money and close to Disneyland. The highlight of our stay was the Walt Disney Studios. Unfortunately, by the third day we had to rush to see everything, so I would suggest three nights and four days to do and see all. We went in May, which I would recommend to all, as the lines on most rides were not very long and the weather is also good.Colleen Smit</td>\n",
              "      <td>Disneyland_Paris</td>\n",
              "    </tr>\n",
              "    <tr>\n",
              "      <th>42654</th>\n",
              "      <td>1618637</td>\n",
              "      <td>4</td>\n",
              "      <td>missing</td>\n",
              "      <td>United States</td>\n",
              "      <td>This hotel, part of the Disneyland Paris complex, is a wonderful place for families. Since we have 3 kids, we needed a room with a  crew area . This consisted of a nice bath with separate toilet area from the shower tub, a large room with TV and 2 double beds, plus a smaller room with bunk beds and a 2nd TV. The rate was reasonable and included unlimited entry to the park. Also included was a wonderful breakfast. The service was fantastic. The only drawback throughout Europe was the size of their bath cloths. They are much too large. Larger than our hand towels. Carry your own wash cloths with you!</td>\n",
              "      <td>Disneyland_Paris</td>\n",
              "    </tr>\n",
              "    <tr>\n",
              "      <th>42655</th>\n",
              "      <td>1536786</td>\n",
              "      <td>4</td>\n",
              "      <td>missing</td>\n",
              "      <td>United Kingdom</td>\n",
              "      <td>I went to the Disneyparis resort, in 1996, with a small child. The minute you enter, the transport to disneyland paris, you are treated like a special guest. The compnay really know how to treat there guest from start to finsh. We arrive at the disneyland resort. The hotels are out of this world, like a storybook coming alive, in front of your eyes. The hotel Santa Fa, is based around a mexico villiage, all rooms are themed in a mexico style. Large beds and large rooms. the one disadvantage is no swimming pool, which would be have been great in a french climate( we went in June) 90  100 degrees everyday. the hotel has playgrounds and themed facilities. There is a nice walk to the disneyland parks and boardwalks. It takes around 20 mins on foot.We are revisting Disneyland paris resort in 2004, I would like to stay at this hotel, very friendly and helpful. It is a change from beach resort, with magic and fun as a added extra, disney magic is never forgotten,. Yours michelle Pilling</td>\n",
              "      <td>Disneyland_Paris</td>\n",
              "    </tr>\n",
              "  </tbody>\n",
              "</table>"
            ],
            "text/plain": [
              "<IPython.core.display.HTML object>"
            ]
          },
          "metadata": {},
          "output_type": "display_data"
        }
      ],
      "source": [
        "#Import data\n",
        "# from google.colab import drive\n",
        "# drive.mount('/content/drive')\n",
        "\n",
        "# #Define file path and read the file\n",
        "# file_path = \"/content/drive/My Drive/DisneylandReviews.csv\"\n",
        "# df = pd.read_csv(file_path, encoding='ISO-8859-1')\n",
        "# df.head()\n",
        "\n",
        "df = pd.read_csv('DisneylandReviews.csv', encoding='ISO-8859-1')\n",
        "display(HTML(df.to_html(max_rows=10, max_cols=10)))"
      ]
    },
    {
      "cell_type": "markdown",
      "metadata": {},
      "source": [
        "##Run sentiment analysis using VADER on the first 1000 reviews"
      ]
    },
    {
      "cell_type": "code",
      "execution_count": 11,
      "metadata": {},
      "outputs": [
        {
          "name": "stderr",
          "output_type": "stream",
          "text": [
            "Device set to use cpu\n",
            "100%|██████████| 42656/42656 [3:29:56<00:00,  3.39it/s]   \n"
          ]
        },
        {
          "data": {
            "text/html": [
              "<table border=\"1\" class=\"dataframe\">\n",
              "  <thead>\n",
              "    <tr style=\"text-align: right;\">\n",
              "      <th></th>\n",
              "      <th>Review_Text</th>\n",
              "      <th>bert_sentiment</th>\n",
              "    </tr>\n",
              "  </thead>\n",
              "  <tbody>\n",
              "    <tr>\n",
              "      <th>0</th>\n",
              "      <td>If you've ever been to Disneyland anywhere you'll find Disneyland Hong Kong very similar in the layout when you walk into main street! It has a very familiar feel. One of the rides  its a Small World  is absolutely fabulous and worth doing. The day we visited was fairly hot and relatively busy but the queues moved fairly well.</td>\n",
              "      <td>5 stars</td>\n",
              "    </tr>\n",
              "    <tr>\n",
              "      <th>1</th>\n",
              "      <td>Its been a while since d last time we visit HK Disneyland .. Yet, this time we only stay in Tomorrowland .. AKA Marvel land!Now they have Iron Man Experience n d Newly open Ant Man n d Wasp!!Ironman .. Great feature n so Exciting, especially d whole scenery of HK (HK central area to Kowloon)!Antman .. Changed by previous Buzz lightyear! More or less d same, but I'm expecting to have something most!!However, my boys like it!!Space Mountain .. Turns into Star Wars!! This 1 is Great!!!For cast members (staffs) .. Felt bit MINUS point from before!!! Just dun feel like its a Disney brand!! Seems more local like Ocean Park or even worst!!They got no SMILING face, but just wanna u to enter n attraction n leave!!Hello this is supposed to be Happiest Place on Earth brand!! But, just really Dont feel it!!Bakery in Main Street now have more attractive delicacies n Disney theme sweets .. These are Good Points!!Last, they also have Starbucks now inside the theme park!!</td>\n",
              "      <td>4 stars</td>\n",
              "    </tr>\n",
              "    <tr>\n",
              "      <th>2</th>\n",
              "      <td>Thanks God it wasn   t too hot or too humid when I was visiting the park   otherwise it would be a big issue (there is not a lot of shade).I have arrived around 10:30am and left at 6pm. Unfortunately I didn   t last until evening parade, but 8.5 hours was too much for me.There is plenty to do and everyone will find something interesting for themselves to enjoy.It wasn   t extremely busy and the longest time I had to queue for certain attractions was 45 minutes (which is really not that bad).Although I had an amazing time, I felt a bit underwhelmed with choice of rides and attractions. The park itself is quite small (I was really expecting something grand   even the main castle which was closed by the way was quite small).The food options are good, few coffee shops (including Starbucks) and plenty of gift shops. There was no issue with toilets as they are everywhere.All together it was a great day out and I really enjoyed it.</td>\n",
              "      <td>4 stars</td>\n",
              "    </tr>\n",
              "    <tr>\n",
              "      <th>3</th>\n",
              "      <td>HK Disneyland is a great compact park. Unfortunately there is quite a bit of maintenance work going on at present so a number of areas are closed off (including the famous castle) If you go midweek, it is not too crowded and certainly no where near as bus as LA Disneyland. We did notice on this visit that prices for food, drinks etc have really gone through the roof so be prepared to pay top dollar for snacks (and avoid the souvenir shops if you can) Regardless, kids will love it.</td>\n",
              "      <td>3 stars</td>\n",
              "    </tr>\n",
              "    <tr>\n",
              "      <th>4</th>\n",
              "      <td>the location is not in the city, took around 1 hour from Kowlon, my kids like disneyland so much, everything is fine.   but its really crowded and hot in Hong Kong</td>\n",
              "      <td>3 stars</td>\n",
              "    </tr>\n",
              "    <tr>\n",
              "      <th>...</th>\n",
              "      <td>...</td>\n",
              "      <td>...</td>\n",
              "    </tr>\n",
              "    <tr>\n",
              "      <th>42651</th>\n",
              "      <td>i went to disneyland paris in july 03 and thought it was brilliant. i visited all the hotels and stayed in the newport bay and also the kyriad hotels. the newport is a really nice hotel within walking distance of the parks. very big hotel. the kyriad is further away but still a really nice hotel..i saw all rooms at all hotels and they are all pretty much the same. thought the parks were brill and as it was july didn't really have to queue that much i thought. the food was the most expensive thing there. i did the character breakfast which is a must especially if you have young kids and also did buffalo bills which is a really good night. stayed up til late in the nightclub which i didn't think was expensive at all and it was free entry as we were staying in the disney hotel.. altogether a really good 4 nts that we were there even better that it was all free!!!!!! can't wait to go back</td>\n",
              "      <td>4 stars</td>\n",
              "    </tr>\n",
              "    <tr>\n",
              "      <th>42652</th>\n",
              "      <td>2 adults and 1 child of 11 visited Disneyland Paris beginning of Feb 04 and had an absolute fantastic time.We went on a Thursday for 3 nights and there were no queues until the Saturday when lots more people seemed to arrive.We stayed in the Sequioa Lodge which was really nice, drinks in the hotel were pretty expensive but we were expecting that and found it cheaper to buy alcohol from the in hotel shop!!The rides were fantastic much better than i ever expected and we did the park 1 day and the studios 1 day then anything that we wanted to do again we did on the 3rd day.The parades were amazing and i would highly recommend that you try and fit time in to watch at least the fantallusion show of an evening as it's just magical.Yes i agree with some of the other reviews that things were expensive but what theme park can you go to where prices are reasonable????All in all we had an absolute magical time, but would recommend that if you want to fit everything in go mid week and try to avoid childrens holidays.</td>\n",
              "      <td>4 stars</td>\n",
              "    </tr>\n",
              "    <tr>\n",
              "      <th>42653</th>\n",
              "      <td>My eleven year old daughter and myself went to visit my son in London and we decided to go on to Disneyland Paris. We stayed for two nights and three days at the Hotel Du Moulon, which was great value for money and close to Disneyland. The highlight of our stay was the Walt Disney Studios. Unfortunately, by the third day we had to rush to see everything, so I would suggest three nights and four days to do and see all. We went in May, which I would recommend to all, as the lines on most rides were not very long and the weather is also good.Colleen Smit</td>\n",
              "      <td>3 stars</td>\n",
              "    </tr>\n",
              "    <tr>\n",
              "      <th>42654</th>\n",
              "      <td>This hotel, part of the Disneyland Paris complex, is a wonderful place for families. Since we have 3 kids, we needed a room with a  crew area . This consisted of a nice bath with separate toilet area from the shower tub, a large room with TV and 2 double beds, plus a smaller room with bunk beds and a 2nd TV. The rate was reasonable and included unlimited entry to the park. Also included was a wonderful breakfast. The service was fantastic. The only drawback throughout Europe was the size of their bath cloths. They are much too large. Larger than our hand towels. Carry your own wash cloths with you!</td>\n",
              "      <td>4 stars</td>\n",
              "    </tr>\n",
              "    <tr>\n",
              "      <th>42655</th>\n",
              "      <td>I went to the Disneyparis resort, in 1996, with a small child. The minute you enter, the transport to disneyland paris, you are treated like a special guest. The compnay really know how to treat there guest from start to finsh. We arrive at the disneyland resort. The hotels are out of this world, like a storybook coming alive, in front of your eyes. The hotel Santa Fa, is based around a mexico villiage, all rooms are themed in a mexico style. Large beds and large rooms. the one disadvantage is no swimming pool, which would be have been great in a french climate( we went in June) 90  100 degrees everyday. the hotel has playgrounds and themed facilities. There is a nice walk to the disneyland parks and boardwalks. It takes around 20 mins on foot.We are revisting Disneyland paris resort in 2004, I would like to stay at this hotel, very friendly and helpful. It is a change from beach resort, with magic and fun as a added extra, disney magic is never forgotten,. Yours michelle Pilling</td>\n",
              "      <td>4 stars</td>\n",
              "    </tr>\n",
              "  </tbody>\n",
              "</table>"
            ],
            "text/plain": [
              "<IPython.core.display.HTML object>"
            ]
          },
          "metadata": {},
          "output_type": "display_data"
        }
      ],
      "source": [
        "from transformers import AutoTokenizer, AutoModelForSequenceClassification, pipeline\n",
        "from tqdm import tqdm\n",
        "\n",
        "# Load model and tokenizer\n",
        "tokenizer = AutoTokenizer.from_pretrained(\"nlptown/bert-base-multilingual-uncased-sentiment\")\n",
        "model = AutoModelForSequenceClassification.from_pretrained(\"nlptown/bert-base-multilingual-uncased-sentiment\")\n",
        "\n",
        "# Create the sentiment analysis pipeline\n",
        "sentiment_pipeline = pipeline(\"sentiment-analysis\", model=model, tokenizer=tokenizer)\n",
        "\n",
        "# Apply pipeline (with progress bar for large datasets)\n",
        "tqdm.pandas()  # Enables progress_apply\n",
        "df_transformer = df[[\"Review_Text\"]].dropna().copy()\n",
        "df_transformer[\"bert_sentiment\"] = df_transformer[\"Review_Text\"].progress_apply(\n",
        "    lambda x: sentiment_pipeline(x, truncation=True)[0][\"label\"]\n",
        ")\n",
        "\n",
        "# Preview results\n",
        "display(HTML(df_transformer.to_html(max_rows=10, max_cols=10)))\n"
      ]
    },
    {
      "cell_type": "code",
      "execution_count": 12,
      "metadata": {},
      "outputs": [],
      "source": [
        "df_transformer.to_csv('Labelled_DisneylandReviews.csv', index=False)"
      ]
    },
    {
      "cell_type": "markdown",
      "metadata": {},
      "source": [
        "##Train classifier on the above data"
      ]
    },
    {
      "cell_type": "code",
      "execution_count": 3,
      "metadata": {},
      "outputs": [],
      "source": [
        "df_transformer = pd.read_csv(\"Labelled_DisneylandReviews.csv\")"
      ]
    },
    {
      "cell_type": "code",
      "execution_count": 3,
      "metadata": {},
      "outputs": [
        {
          "name": "stdout",
          "output_type": "stream",
          "text": [
            "                Count  Percentage\n",
            "bert_sentiment                   \n",
            "1 star           2386        5.59\n",
            "2 stars          5093       11.94\n",
            "3 stars          4767       11.18\n",
            "4 stars         14428       33.82\n",
            "5 stars         15982       37.47\n"
          ]
        }
      ],
      "source": [
        "# Count label frequency\n",
        "label_counts = df_transformer[\"bert_sentiment\"].value_counts().sort_index()\n",
        "\n",
        "# Calculate percentages\n",
        "label_percentages = (label_counts / label_counts.sum()) * 100\n",
        "\n",
        "# Combine into a DataFrame\n",
        "bert_sentiment_distribution = pd.DataFrame({\n",
        "    \"Count\": label_counts,\n",
        "    \"Percentage\": label_percentages.round(2)\n",
        "})\n",
        "\n",
        "# Display nicely\n",
        "print(bert_sentiment_distribution)\n"
      ]
    },
    {
      "cell_type": "markdown",
      "metadata": {},
      "source": [
        "##Bert Based Uncased"
      ]
    },
    {
      "cell_type": "code",
      "execution_count": 4,
      "metadata": {},
      "outputs": [
        {
          "name": "stderr",
          "output_type": "stream",
          "text": [
            "c:\\Users\\tjiay\\DSA3101_Group8_Project1\\.venv\\Lib\\site-packages\\tqdm\\auto.py:21: TqdmWarning: IProgress not found. Please update jupyter and ipywidgets. See https://ipywidgets.readthedocs.io/en/stable/user_install.html\n",
            "  from .autonotebook import tqdm as notebook_tqdm\n",
            "Map: 100%|██████████| 29859/29859 [00:08<00:00, 3424.42 examples/s]\n",
            "Map: 100%|██████████| 6398/6398 [00:01<00:00, 3293.42 examples/s]\n",
            "Map: 100%|██████████| 6399/6399 [00:01<00:00, 3499.75 examples/s]\n"
          ]
        }
      ],
      "source": [
        "from sklearn.model_selection import train_test_split\n",
        "from datasets import Dataset\n",
        "\n",
        "# Step 1: Create binary label column\n",
        "df_transformer[\"risk_label\"] = df_transformer[\"bert_sentiment\"].apply(\n",
        "    lambda x: 1 if x in [\"1 star\", \"2 stars\"] else 0\n",
        ")\n",
        "\n",
        "# Step 2: Train/test/val split\n",
        "train_df, temp_df = train_test_split(\n",
        "    df_transformer, test_size=0.3, stratify=df_transformer[\"risk_label\"], random_state=42\n",
        ")\n",
        "val_df, test_df = train_test_split(\n",
        "    temp_df, test_size=0.5, stratify=temp_df[\"risk_label\"], random_state=42\n",
        ")\n",
        "\n",
        "# Rename columns for Hugging Face\n",
        "train_ds = Dataset.from_pandas(train_df[[\"Review_Text\", \"risk_label\"]].rename(\n",
        "    columns={\"Review_Text\": \"text\", \"risk_label\": \"label\"}).reset_index(drop=True))\n",
        "val_ds = Dataset.from_pandas(val_df[[\"Review_Text\", \"risk_label\"]].rename(\n",
        "    columns={\"Review_Text\": \"text\", \"risk_label\": \"label\"}).reset_index(drop=True))\n",
        "test_ds = Dataset.from_pandas(test_df[[\"Review_Text\", \"risk_label\"]].rename(\n",
        "    columns={\"Review_Text\": \"text\", \"risk_label\": \"label\"}).reset_index(drop=True))\n",
        "\n",
        "from transformers import AutoTokenizer\n",
        "\n",
        "tokenizer = AutoTokenizer.from_pretrained(\"distilbert-base-uncased\")\n",
        "\n",
        "def tokenize(batch):\n",
        "    return tokenizer(batch[\"text\"], padding=\"max_length\", truncation=True, max_length=256)\n",
        "\n",
        "train_ds = train_ds.map(tokenize, batched=True)\n",
        "val_ds = val_ds.map(tokenize, batched=True)\n",
        "test_ds = test_ds.map(tokenize, batched=True)\n"
      ]
    },
    {
      "cell_type": "code",
      "execution_count": 5,
      "metadata": {},
      "outputs": [
        {
          "name": "stderr",
          "output_type": "stream",
          "text": [
            "Some weights of DistilBertForSequenceClassification were not initialized from the model checkpoint at distilbert-base-uncased and are newly initialized: ['classifier.bias', 'classifier.weight', 'pre_classifier.bias', 'pre_classifier.weight']\n",
            "You should probably TRAIN this model on a down-stream task to be able to use it for predictions and inference.\n",
            "c:\\Users\\tjiay\\DSA3101_Group8_Project1\\.venv\\Lib\\site-packages\\transformers\\training_args.py:1611: FutureWarning: `evaluation_strategy` is deprecated and will be removed in version 4.46 of 🤗 Transformers. Use `eval_strategy` instead\n",
            "  warnings.warn(\n",
            "C:\\Users\\tjiay\\AppData\\Local\\Temp\\ipykernel_19108\\4060393586.py:29: FutureWarning: `tokenizer` is deprecated and will be removed in version 5.0.0 for `Trainer.__init__`. Use `processing_class` instead.\n",
            "  trainer = Trainer(\n"
          ]
        },
        {
          "data": {
            "text/html": [
              "\n",
              "    <div>\n",
              "      \n",
              "      <progress value='11199' max='11199' style='width:300px; height:20px; vertical-align: middle;'></progress>\n",
              "      [11199/11199 5:29:17, Epoch 3/3]\n",
              "    </div>\n",
              "    <table border=\"1\" class=\"dataframe\">\n",
              "  <thead>\n",
              " <tr style=\"text-align: left;\">\n",
              "      <th>Epoch</th>\n",
              "      <th>Training Loss</th>\n",
              "      <th>Validation Loss</th>\n",
              "      <th>Accuracy</th>\n",
              "      <th>F1</th>\n",
              "    </tr>\n",
              "  </thead>\n",
              "  <tbody>\n",
              "    <tr>\n",
              "      <td>1</td>\n",
              "      <td>0.200900</td>\n",
              "      <td>0.261963</td>\n",
              "      <td>0.931229</td>\n",
              "      <td>0.780876</td>\n",
              "    </tr>\n",
              "    <tr>\n",
              "      <td>2</td>\n",
              "      <td>0.127400</td>\n",
              "      <td>0.234257</td>\n",
              "      <td>0.940919</td>\n",
              "      <td>0.821023</td>\n",
              "    </tr>\n",
              "    <tr>\n",
              "      <td>3</td>\n",
              "      <td>0.067300</td>\n",
              "      <td>0.306524</td>\n",
              "      <td>0.941388</td>\n",
              "      <td>0.826469</td>\n",
              "    </tr>\n",
              "  </tbody>\n",
              "</table><p>"
            ],
            "text/plain": [
              "<IPython.core.display.HTML object>"
            ]
          },
          "metadata": {},
          "output_type": "display_data"
        },
        {
          "data": {
            "text/plain": [
              "TrainOutput(global_step=11199, training_loss=0.13954748972386843, metrics={'train_runtime': 19759.3939, 'train_samples_per_second': 4.533, 'train_steps_per_second': 0.567, 'total_flos': 5933016084704256.0, 'train_loss': 0.13954748972386843, 'epoch': 3.0})"
            ]
          },
          "execution_count": 5,
          "metadata": {},
          "output_type": "execute_result"
        }
      ],
      "source": [
        "from transformers import TrainingArguments, Trainer\n",
        "import numpy as np\n",
        "from sklearn.metrics import accuracy_score, f1_score\n",
        "from transformers import DistilBertForSequenceClassification\n",
        "\n",
        "model = DistilBertForSequenceClassification.from_pretrained(\"distilbert-base-uncased\", num_labels=2)\n",
        "\n",
        "training_args = TrainingArguments(\n",
        "    output_dir=\"./bert-high-risk\",\n",
        "    evaluation_strategy=\"epoch\",\n",
        "    save_strategy=\"epoch\",\n",
        "    logging_dir=\"./logs\",\n",
        "    learning_rate=2e-5,\n",
        "    per_device_train_batch_size=8,\n",
        "    per_device_eval_batch_size=8,\n",
        "    num_train_epochs=3,\n",
        "    load_best_model_at_end=True,\n",
        "    weight_decay=0.01,\n",
        ")\n",
        "\n",
        "def compute_metrics(eval_pred):\n",
        "    logits, labels = eval_pred\n",
        "    preds = np.argmax(logits, axis=1)\n",
        "    return {\n",
        "        \"accuracy\": accuracy_score(labels, preds),\n",
        "        \"f1\": f1_score(labels, preds)\n",
        "    }\n",
        "\n",
        "trainer = Trainer(\n",
        "    model=model,\n",
        "    args=training_args,\n",
        "    train_dataset=train_ds,\n",
        "    eval_dataset=val_ds,\n",
        "    tokenizer=tokenizer,\n",
        "    compute_metrics=compute_metrics\n",
        ")\n",
        "\n",
        "# Train!\n",
        "trainer.train()\n"
      ]
    },
    {
      "cell_type": "code",
      "execution_count": 7,
      "metadata": {},
      "outputs": [
        {
          "data": {
            "text/plain": [
              "('./saved_distilbert_highrisk_model\\\\tokenizer_config.json',\n",
              " './saved_distilbert_highrisk_model\\\\special_tokens_map.json',\n",
              " './saved_distilbert_highrisk_model\\\\vocab.txt',\n",
              " './saved_distilbert_highrisk_model\\\\added_tokens.json',\n",
              " './saved_distilbert_highrisk_model\\\\tokenizer.json')"
            ]
          },
          "execution_count": 7,
          "metadata": {},
          "output_type": "execute_result"
        }
      ],
      "source": [
        "trainer.save_model(\"./saved_distilbert_highrisk_model\")\n",
        "tokenizer.save_pretrained(\"./saved_distilbert_highrisk_model\")"
      ]
    },
    {
      "cell_type": "code",
      "execution_count": 6,
      "metadata": {},
      "outputs": [
        {
          "data": {
            "text/html": [],
            "text/plain": [
              "<IPython.core.display.HTML object>"
            ]
          },
          "metadata": {},
          "output_type": "display_data"
        },
        {
          "name": "stdout",
          "output_type": "stream",
          "text": [
            "               precision    recall  f1-score   support\n",
            "\n",
            "Not High Risk       0.95      0.98      0.96      5277\n",
            "    High Risk       0.88      0.75      0.81      1122\n",
            "\n",
            "     accuracy                           0.94      6399\n",
            "    macro avg       0.91      0.86      0.89      6399\n",
            " weighted avg       0.94      0.94      0.94      6399\n",
            "\n"
          ]
        }
      ],
      "source": [
        "trainer.evaluate(test_ds)\n",
        "\n",
        "from sklearn.metrics import classification_report\n",
        "\n",
        "# Get predictions\n",
        "preds_output = trainer.predict(test_ds)\n",
        "y_true = preds_output.label_ids\n",
        "y_pred = np.argmax(preds_output.predictions, axis=1)\n",
        "\n",
        "# Print detailed report\n",
        "print(classification_report(y_true, y_pred, target_names=[\"Not High Risk\", \"High Risk\"]))\n",
        "\n"
      ]
    },
    {
      "cell_type": "code",
      "execution_count": 11,
      "metadata": {},
      "outputs": [
        {
          "data": {
            "image/png": "[encoded data removed]",
            "text/plain": [
              "<Figure size 600x400 with 1 Axes>"
            ]
          },
          "metadata": {},
          "output_type": "display_data"
        }
      ],
      "source": [
        "from sklearn.metrics import roc_curve, auc\n",
        "import matplotlib.pyplot as plt\n",
        "\n",
        "# Get true labels and predicted probabilities for class 1\n",
        "y_true = preds_output.label_ids\n",
        "y_score = torch.nn.functional.softmax(torch.tensor(preds_output.predictions), dim=1).numpy()[:, 1]\n",
        "\n",
        "# Compute ROC curve and AUC\n",
        "fpr, tpr, thresholds = roc_curve(y_true, y_score)\n",
        "roc_auc = auc(fpr, tpr)\n",
        "\n",
        "# Plot\n",
        "plt.figure(figsize=(6, 4))\n",
        "plt.plot(fpr, tpr, color='blue', lw=2, label=f'ROC Curve (AUC = {roc_auc:.2f})')\n",
        "plt.plot([0, 1], [0, 1], color='gray', linestyle='--')  # random guess line\n",
        "plt.xlabel(\"False Positive Rate\")\n",
        "plt.ylabel(\"True Positive Rate (Recall)\")\n",
        "plt.title(\"ROC Curve for High Risk Classification\")\n",
        "plt.legend(loc=\"lower right\")\n",
        "plt.grid(True)\n",
        "plt.show()\n"
      ]
    }
  ],
  "metadata": {
    "colab": {
      "provenance": []
    },
    "kernelspec": {
      "display_name": ".venv",
      "language": "python",
      "name": "python3"
    },
    "language_info": {
      "codemirror_mode": {
        "name": "ipython",
        "version": 3
      },
      "file_extension": ".py",
      "mimetype": "text/x-python",
      "name": "python",
      "nbconvert_exporter": "python",
      "pygments_lexer": "ipython3",
      "version": "3.11.1"
    }
  },
  "nbformat": 4,
  "nbformat_minor": 0
}
